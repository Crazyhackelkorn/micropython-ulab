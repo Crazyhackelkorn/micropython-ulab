{
 "cells": [
  {
   "cell_type": "code",
   "execution_count": 1,
   "metadata": {
    "ExecuteTime": {
     "end_time": "2020-03-25T07:12:53.044509Z",
     "start_time": "2020-03-25T07:12:50.793902Z"
    }
   },
   "outputs": [
    {
     "name": "stdout",
     "output_type": "stream",
     "text": [
      "Populating the interactive namespace from numpy and matplotlib\n"
     ]
    }
   ],
   "source": [
    "%pylab inline"
   ]
  },
  {
   "cell_type": "markdown",
   "metadata": {},
   "source": [
    "# Introduction"
   ]
  },
  {
   "cell_type": "markdown",
   "metadata": {},
   "source": [
    "# The `ndarray` object"
   ]
  },
  {
   "cell_type": "markdown",
   "metadata": {},
   "source": [
    "## General comments\n",
    "\n",
    "`ndarrays` are efficient containers of numerical data of the same type (i.e., signed/unsigned chars, signed/unsigned integers or `float`s, which, depending on the platform, can also be `double`s). Beyond storing the actual data, the type definition has eight additional members (on top of the `base` type). Namely, `dense`, which tells us, whether the array is dense or sparse (more on this later), the `dtype`, which tells us, how the bytes are to be interpreted. Moreover, the `itemsize`, which stores the size of a single entry in the array, `boolean`, an unsigned integer, which determines, whether the arrays is to be treated as a set of Booleans, or as numerical data, `ndim`, the number of dimensions (`uint8_t`), `len`, the length of the array, the shape (`*size_t`), the strides (`*size_t`). The length is the product of the numbers in `shape`.\n",
    "\n",
    "The type definition is as follows:\n",
    "\n",
    "```c\n",
    "typedef struct _ndarray_obj_t {\n",
    "    mp_obj_base_t base;\n",
    "    uint8_t dense;\n",
    "    uint8_t dtype;\n",
    "    uint8_t itemsize;\n",
    "    uint8_t boolean;\n",
    "    uint8_t ndim;\n",
    "    size_t len;\n",
    "    size_t shape[ULAB_MAX_DIMS];\n",
    "    int32_t strides[ULAB_MAX_DIMS];\n",
    "    void *array;\n",
    "} ndarray_obj_t;\n",
    "```"
   ]
  },
  {
   "cell_type": "markdown",
   "metadata": {},
   "source": [
    "## Memory layout\n",
    "\n",
    "The values of an `ndarray` are stored in a linear segment in the RAM. The `ndarray` can be dense, meaning that all numbers in the linear memory segment belong to a linar combination of coordinates, and it can also be sparse, i.e., some elements of the linear storage space will be skipped, when the elements of the tensor are traversed. \n",
    "\n",
    "In the RAM, the position of the item $M(n_1, n_2, ..., n_{k-1}, n_k)$ in a dense tensor of rank $k$ is given by the linear combination \n",
    "\n",
    "\\begin{equation}\n",
    "P(n_1, n_2, ..., n_{k-1}, n_k) = n_1 s_1 + n_2 s_2 + ... + n_{k-1}s_{k-1} + n_ks_k = \\sum_{i=1}^{k}n_is_i\n",
    "\\end{equation}\n",
    "where $s_i$ are the strides of the tensor, defined as \n",
    "\n",
    "\\begin{equation}\n",
    "s_i = \\prod_{j=i+1}^k l_j\n",
    "\\end{equation}\n",
    "\n",
    "where $l_j$ is length of the tensor along the $j$th axis. When the tensor is sparse (e.g., when the tensor is sliced), the strides along a particular axis will be multiplied by a non-zero integer. If this integer is different to $\\pm 1$, the linear combination above cannot access all elements in the RAM, i.e., some numbers will be skipped. Note that $|s_1| > |s_2| > ... > |s_{k-1}| > |s_k|$, even if the tensor is sparse. The statement is trivial for dense tensors, and it follows from the definition of $s_i$. For sparse tensors, a slice cannot have a step larger than the shape along that axis. But for dense tensors, $s_i/s_{i+1} = l_i$. \n",
    "\n",
    "## Iterating over elements of a tensor\n",
    "\n",
    "The `shape` and `strides` members of the array tell us how we have to move our pointer, when we want to read out the numbers. For technical reasons that will become clear later, the numbers in `shape` and in `strides` are aligned to the right, and begin on the right hand side, i.e., if the number of possible dimensions is `ULAB_MAX_DIMS`, then `shape[ULAB_MAX_DIMS-1]` is the length of the array along the 0th axis, \n",
    "\n",
    "With this definition of the strides, the linear combination in $P(n_1, n_2, ..., n_{k-1}, n_k)$ is a one-to-one mapping from the space of tensor coordinates, $(n_1, n_2, ..., n_{k-1}, n_k)$, and the coordinate in the linear array, $n_1s_1 + n_2s_2 + ... + n_{k-1}s_{k-1} + n_ks_k$, i.e., no two distinct sets of coordinates will result in the same position in the linear array. For this reason, we can invert the mapping, if we want to find out, which coordinates belong to a particular position in the linar array. \n",
    "\n",
    "If \n",
    "\\begin{equation}\n",
    "p = n_1s_1 + n_2s_2 + ... + n_{k-1}s_{k-1} + n_ks_k\n",
    "\\end{equation}\n",
    "then\n",
    "\\begin{eqnarray}\n",
    "n_1 &=& \\frac{p}{s_1}\n",
    "\\\\\n",
    "n_2 &=& \\frac{p-n_1\\cdot p/s_1}{s_2}\n",
    "\\\\\n",
    "{} &\\vdots & {}\n",
    "\\end{eqnarray}\n",
    "i.e., we get $n_k$ by dividing the remainder of the $k-1$th division by $s_k$.\n",
    "\n",
    "However, there is another way of traversing all elements of a tensor: we note that, since $|s_1| > |s_2| > ... > |s_{k-1}| > |s_k|$, $P(n1, n2, ..., n_{k-1}, n_k)$ changes slowest in the last coordinate. Hence, if we start from the very beginning, ($n_i = 0$ for all $i$), and walk along the linear RAM segment, we increment the value of $n_k$ as long as $n_k < l_k$. Once $n_k = l_k$, we have to reset $n_k$ to 0, and increment $n_{k-1}$ by one. After each such round, $n_{k-1}$ will be incremented by one, as long as $n_{k-1} < l_{k-1}$. Once $n_{k-1} = l_{k-1}$, we reset both $n_k$, and $n_{k-1}$ to 0, and increment $n_{k-2}$ by one. \n",
    "\n",
    "A very generic iteration loop would look like as follows (here we assume that the underlying data container holds unsigned bytes):\n",
    "\n",
    "```c\n",
    "    ndarray_obj_t *self = MP_OBJ_TO_PTR(self_in);      // get a pointer to the underlying ndarray structure\n",
    "    size_t *coords = ndarray_new_coords(self->ndim);   // temporary container of the tensor coordinates\n",
    "    uint8_t *array = (uint8_t *)self->array;           // assume a byte array in this example\n",
    "    uint8_t value;\n",
    "\n",
    "    for(size_t i=0; i < self->len; i++) { // iterate over all members of the ndarray\n",
    "        value = *array;\n",
    "        // do something with the value\n",
    "        // ...\n",
    "        //\n",
    "        // iterate backwards, so that we can easily break out of the loop\n",
    "        for(uint8_t j=self->ndim-1; j > 0; j--) {\n",
    "            // change the value of the offset by the value of the last dimension's stride\n",
    "            array += self->strides[j]; \n",
    "            // increment the last coordinate by one\n",
    "            coords[j] += 1;\n",
    "           // check, whether the last coordinate has reached the upper limit\n",
    "            if(coords[j] == self->shape[j]) {\n",
    "                // the last coordinate is equal to the last shape, so we reset it here, \n",
    "                // and increment the last but one coordinate by one\n",
    "                coords[j] = 0;\n",
    "                coords[j-1] += 1;\n",
    "                // we also have to change the value of the offset \n",
    "                // (the coefficients of the linear combination have changed)\n",
    "                array -= self->shape[j] * self->strides[j];\n",
    "                array += self->strides[j-1];\n",
    "            } else { \n",
    "                // if coords[j] != self->shape[j], we can bail out, because \n",
    "                // coords[j-1], coords[j-2] etc., can change only, if coords[j] is reset \n",
    "                break;\n",
    "            }\n",
    "        }\n",
    "    // do not forget to free the temporary variable\n",
    "    m_del(size_t, coords, self->ndim);\n",
    "```\n",
    "\n",
    "Note that the snippet above is independent of the value of the strides: this means that the snippet above works for dense, as well as sparse tensors. Also note that the `coords` array is for book-keeping only: the value of `coords[j]` is not used anywhere, when we calculate the position (offset) of an element. `coords` is employed only to keep track of our location in the $k$-dimensional space. \n",
    "\n",
    "The coordinate shifting is not necessary for dense arrays: by definition, for any dense `ndarray`, \n",
    "```c\n",
    "    ndarray->shape[j] * ndarray->strides[j] = ndarray->strides[j-1];\n",
    "```\n",
    "holds, which means that the statement \n",
    "\n",
    "```c\n",
    "    array -= self->shape[j] * self->strides[j];\n",
    "    array += self->strides[j-1];\n",
    "```\n",
    "does not change the pointer location. Also, since the value \n",
    "\n",
    "```c\n",
    "    self->strides[j-1] - self->shape[j] * self->strides[j]\n",
    "```\n",
    "recurs in each iteration, we can save the time spent on the multiplication, if we store the pre-calculated values in an array:\n",
    "\n",
    "```c\n",
    "\tif(!ndarray_is_dense(ndarray)) {\n",
    "\t\tstrides_product = m_new(int32_t, ndarray->ndim);\n",
    "\t\tfor(uint8_t i=1; i < ndarray->ndim; i++) {\n",
    "\t\t\tstrides_product[i] = ndarray->strides[i - 1] - ndarray->shape[i] * ndarray->strides[i];\n",
    "\t\t}\n",
    "\t}\n",
    "```"
   ]
  },
  {
   "cell_type": "markdown",
   "metadata": {},
   "source": [
    "There is one more observation, which can make our snippet more efficient, namely, that any reasonable array (one, where computations make any sense at all) will have at least one dimension, i.e., we can separate the iteration over the last coordinate, and do the coordinate shifting only, if `ndim > 1`. Since the length of the last axis is `shape[ndarray->ndim-1]`, the length of the outer loop is `ndarray->len/ndarray->shape[ndarray->ndim-1]`.\n",
    "\n",
    "```c\n",
    "    int32_t last_stride = ndarray->strides[ndarray->ndim-1];\n",
    "\tint32_t *strides_product = NULL; // at this point, it is not yet clear, whether `strides_product` will be calculated\n",
    "\tif(!ndarray_is_dense(ndarray)) {\n",
    "\t\tstrides_product = m_new(int32_t, ndarray->ndim);\n",
    "\t\tfor(uint8_t i=1; i < ndarray->ndim; i++) {\n",
    "\t\t\tstrides_product[i] = ndarray->strides[i - 1] - ndarray->shape[i] * ndarray->strides[i];\n",
    "\t\t}\n",
    "\t}\n",
    "\tfor(size_t i=0; i < ndarray->len/ndarray->shape[ndarray->ndim-1]; i++) {\n",
    "\t\tfor(size_t j=0; j < ndarray->shape[ndarray->ndim-1]; j++) {\n",
    "\t\t\tmp_float_t f = ndarray_get_single_float_value(array, ndarray->dtype);\n",
    "            // do something with the value `f`\n",
    "\t\t\tarray += last_stride;\n",
    "\t\t}\n",
    "\t\tif((ndarray->ndim > 1) && !dense) { // \n",
    "\t\t\tarray += strides_product[result->ndim-1];\n",
    "\t\t\tfor(int16_t j=ndarray->ndim-2; j > 0; j--) {\n",
    "\t\t\t\tif(coords[j] == ndarray->shape[j]) {\n",
    "\t\t\t\t\tarray += strides_product[j];\n",
    "\t\t\t\t\tcoords[j] = 0;\n",
    "\t\t\t\t\tcoords[j-1] += 1;\n",
    "\t\t\t\t} else { // coordinates can change only, if the last coordinate changes\n",
    "\t\t\t\t\tbreak;\n",
    "\t\t\t\t}\n",
    "\t\t\t}\n",
    "\t\t}\n",
    "\t}\n",
    "\n",
    "```"
   ]
  },
  {
   "cell_type": "markdown",
   "metadata": {},
   "source": [
    "## Iterating over two ndarrays simultaneously: broadcasting\n",
    "\n",
    "Whenever we invoke a binary operator, call a function with two arguments of `ndarray` type, or assign something to an `ndarray`, we have to iterate over two views at the same time. The task is trivial, if the two `ndarray`s in question have the same shape (but not necessarily the same set of strides), because in this case, we can still iterate in the same loop. All that happens is that we move two data pointers in sync.\n",
    "\n",
    "The problem becomes a bit more involving, when the shapes of the two `ndarray`s are not identical. For such cases, `numpy` defines so-called broadcasting, which boils down to two rules. \n",
    "\n",
    "1. The shapes in the tensor with lower rank has to be prepended with axes of size 1 till the two ranks become equal.\n",
    "2. Along all axes the two tensors should have the same size, or one of the sizes must be 1. \n",
    "\n",
    "If, after applying the first rule the second is not satisfied, the two `ndarray`s cannot be broadcast together. \n",
    "\n",
    "Now, let us suppose that we have two compatible `ndarray`s, i.e., after applying the first rule, the second is satisfied. How do we iterate over the elements in the tensors? \n",
    "\n",
    "We should recall, what exactly we do, when iterating over a single array: normally, we move the data pointer by the last stride, except, when we arrive at a dimension boundary (when the last axis is exhausted). At that point, we move the pointer by an amount dictated by the strides. And this is the key: *dictated by the strides*. Now, if we have two arrays that are originally not compatible, we define new strides for them, and use these in the iteration. With that, we are back to the case, where we had two compatible arrays. \n",
    "\n",
    "Now, let us look at the second broadcasting rule: if the two arrays have the same size, we take both `ndarray`s' strides along that axis. If, on the other hand, one of the `ndarray`s is of length 1 along one of its axes, we set the corresponding strides to 0. This will ensure that the data pointer is not moved, while we iterate over both `ndarray`s at the same time. \n",
    "\n",
    "Thus, in order to implement broadcasting, we first have to check, whether the two above-mentioned rules can be satisfied, and if so, we have to find the two new sets strides. "
   ]
  },
  {
   "cell_type": "markdown",
   "metadata": {},
   "source": [
    "```c\n",
    "    size_t roffset = result->offset;\n",
    "    size_t noffset = nvalue->offset;\n",
    "    size_t *rcoords = ndarray_new_coords(result->ndim);\n",
    "    // The first diff_ndim sizes in nvalue are 1\n",
    "    uint8_t diff_ndim = result->ndim - nvalue->ndim;\n",
    "    for(size_t i=0; i < result->len; i++) {\n",
    "        item = mp_binary_get_val_array(nvalue->array->typecode, nvalue->array->items, noffset);\n",
    "        mp_binary_set_val_array(result->array->typecode, result->array->items, roffset, item);\n",
    "        // increment the value of the offset in the second tensor only, if the lat shape is not equal to 1\n",
    "        for(uint8_t j=result->ndim-1; j > 0; j--) {\n",
    "            // increment the value of the offset in the first tensor by the value of the stride\n",
    "            roffset += result->strides[result->ndim-1];\n",
    "            // increment the last coordinate by one\n",
    "            rcoords[j] += 1;\n",
    "\n",
    "            if(rcoords[j] == result->shape[j]) {\n",
    "                if((result->ndim-1-j) < nvalue->ndim) {\n",
    "                    if(nvalue->shape[j-diff_ndim] != 1) { \n",
    "                        // if nvalue->shape[j-diff_ndim] != 1, then nvalue->shape[j-diff_ndim] == result->shape[j], \n",
    "                        // so we can advance the offset counter\n",
    "                        noffset -= nvalue->shape[j-diff_ndim] * nvalue->strides[j-diff_ndim];\n",
    "                        noffset += nvalue->strides[j-diff_ndim-1];\n",
    "                    } else {\n",
    "                        noffset = nvalue->offset;                        \n",
    "                    }\n",
    "                } else {\n",
    "                    noffset = nvalue->offset;\n",
    "                }\n",
    "                roffset -= result->shape[j] * result->strides[j];\n",
    "                roffset += result->strides[j-1];\n",
    "                rcoords[j] = 0;\n",
    "                rcoords[j-1] += 1;\n",
    "            } else { // coordinates can change only, if the last coordinate changes\n",
    "                break;\n",
    "            }\n",
    "        }\n",
    "    }\n",
    "    m_del(size_t, rcoords, result->ndim)\n",
    "\n",
    "```"
   ]
  },
  {
   "cell_type": "markdown",
   "metadata": {},
   "source": [
    "## Contracting an `ndarray`\n",
    "\n",
    "\n",
    "There are many operations that reduce the number of dimensions of an `ndarray` by 1, i.e., that remove an axis from the tensor.\n",
    "\n",
    "The natural way of handling this would be recursion: we could call the function as many times as there are dimensions. However, if we want to avoid the expenses of recursive function calls, we have to resort to iterations. Since the dimensions of a tensor can be arbitrary, we have to iterate over the storage array. \n",
    "\n",
    "We have seen earlier, how we can find out the coordinates in the tensor, if we know, what the position of an element in the linear array is. When contracting an array, we remove one of the axis, say, $j$, and end up with the following sequence: \n",
    "$(n_1, n_2, ..., n_{j-1}, n_{j+1}, ..., n_{k-1}, n_k) \\to n_1s'_1 + n_2s'_2 + ... + n_js'_j + ... + n_{j-1}s'_{j-1} + n_{j+1}s'_{j+1} + ... + n_{k-1}s'_{k-1}n_ks'_k$, where for each $i < j$, $s'_i = s_i$, and $s'_i = s_{i+1}$ otherwise. "
   ]
  },
  {
   "cell_type": "markdown",
   "metadata": {},
   "source": [
    "## Upcasting\n",
    "\n",
    "When in an operation the `dtype` of two arrays is different, the result's `dtype` will be decided by the following upcasting rules: \n",
    "\n",
    "1. Operations with two `ndarray`s of the same `dtype` preserve their `dtype`, even when the results overflow.\n",
    "\n",
    "2. if either of the operands is a float, the results is also a float\n",
    "\n",
    "3. \n",
    "    - `uint8` + `int8` => `int16`, \n",
    "    - `uint8` + `int16` => `int16`\n",
    "    - `uint8` + `uint16` => `uint16`\n",
    "    \n",
    "    - `int8` + `int16` => `int16`\n",
    "    - `int8` + `uint16` => `uint16` (in numpy, the result is a `int32`)\n",
    "\n",
    "    - `uint16` + `int16` => `float` (in numpy, the result is a `int32`)\n",
    "    \n",
    "4. When the right hand side of a binary operator is a `micropython` variable, `mp_obj_int`, or `mp_obj_float`, then the result will be promoted to the smallest `dtype` that can accommodate the variable in question.\n",
    "\n",
    "`numpy` is also inconsistent in how it represents `dtype`: as an argument, it is denoted by the constants `int8`, `uint8`, etc., while a string will be returned, if the user asks for the type of an array."
   ]
  },
  {
   "cell_type": "markdown",
   "metadata": {},
   "source": [
    "# Slicing and indexing"
   ]
  },
  {
   "cell_type": "markdown",
   "metadata": {},
   "source": [
    "An `ndarray` can be indexed with three types of objects: integer scalars, slices, and another `ndarray`, whose elements are either integer scalars, or Booleans. Slice and integer indices return a view of the `ndarray`, while `ndarray` indices return a copy. \n",
    "\n",
    "Integer scalars can be thought of as slices of length 1, "
   ]
  },
  {
   "cell_type": "code",
   "execution_count": null,
   "metadata": {},
   "outputs": [],
   "source": []
  }
 ],
 "metadata": {
  "kernelspec": {
   "display_name": "Python 3",
   "language": "python",
   "name": "python3"
  },
  "language_info": {
   "codemirror_mode": {
    "name": "ipython",
    "version": 3
   },
   "file_extension": ".py",
   "mimetype": "text/x-python",
   "name": "python",
   "nbconvert_exporter": "python",
   "pygments_lexer": "ipython3",
   "version": "3.7.6"
  },
  "toc": {
   "base_numbering": 1,
   "nav_menu": {},
   "number_sections": true,
   "sideBar": true,
   "skip_h1_title": false,
   "title_cell": "Table of Contents",
   "title_sidebar": "Contents",
   "toc_cell": false,
   "toc_position": {},
   "toc_section_display": true,
   "toc_window_display": true
  },
  "varInspector": {
   "cols": {
    "lenName": 16,
    "lenType": 16,
    "lenVar": 40
   },
   "kernels_config": {
    "python": {
     "delete_cmd_postfix": "",
     "delete_cmd_prefix": "del ",
     "library": "var_list.py",
     "varRefreshCmd": "print(var_dic_list())"
    },
    "r": {
     "delete_cmd_postfix": ") ",
     "delete_cmd_prefix": "rm(",
     "library": "var_list.r",
     "varRefreshCmd": "cat(var_dic_list()) "
    }
   },
   "types_to_exclude": [
    "module",
    "function",
    "builtin_function_or_method",
    "instance",
    "_Feature"
   ],
   "window_display": false
  }
 },
 "nbformat": 4,
 "nbformat_minor": 2
}
