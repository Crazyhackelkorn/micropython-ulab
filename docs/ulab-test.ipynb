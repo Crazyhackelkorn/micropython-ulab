{
 "cells": [
  {
   "cell_type": "code",
   "execution_count": 35,
   "metadata": {
    "ExecuteTime": {
     "end_time": "2021-01-12T16:07:37.524453Z",
     "start_time": "2021-01-12T16:07:33.532191Z"
    }
   },
   "outputs": [
    {
     "name": "stdout",
     "output_type": "stream",
     "text": [
      "Populating the interactive namespace from numpy and matplotlib\n"
     ]
    }
   ],
   "source": [
    "%pylab inline"
   ]
  },
  {
   "cell_type": "code",
   "execution_count": 25,
   "metadata": {
    "ExecuteTime": {
     "end_time": "2020-10-17T08:02:24.469493Z",
     "start_time": "2020-10-17T08:02:24.449330Z"
    }
   },
   "outputs": [
    {
     "name": "stdout",
     "output_type": "stream",
     "text": [
      "\n",
      "Traceback (most recent call last):\n",
      "  File \"/dev/shm/micropython.py\", line 5, in <module>\n",
      "AttributeError: 'array' object has no attribute 'itemsize'\n",
      "\n"
     ]
    }
   ],
   "source": [
    "%%micropython -unix 1\n",
    "\n",
    "import array\n",
    "\n",
    "a = array.array('H', [1, 2, 3])\n",
    "print(a.itemsize())"
   ]
  },
  {
   "cell_type": "code",
   "execution_count": 129,
   "metadata": {
    "ExecuteTime": {
     "end_time": "2020-11-03T06:16:36.958167Z",
     "start_time": "2020-11-03T06:16:36.939147Z"
    }
   },
   "outputs": [
    {
     "data": {
      "text/plain": [
       "4.0"
      ]
     },
     "execution_count": 129,
     "metadata": {},
     "output_type": "execute_result"
    }
   ],
   "source": [
    "a = array(range(9))\n",
    "median(a)"
   ]
  },
  {
   "cell_type": "code",
   "execution_count": 38,
   "metadata": {
    "ExecuteTime": {
     "end_time": "2021-01-14T19:14:44.210385Z",
     "start_time": "2021-01-14T19:14:44.186188Z"
    }
   },
   "outputs": [
    {
     "name": "stdout",
     "output_type": "stream",
     "text": [
      "a:\n",
      " array([0, 1, 2, 3, 4, 5, 6, 7, 8], dtype=uint8)\n",
      "\n",
      "first derivative:\n",
      " array([1, 1, 1, 1, 1, 1, 1, 1], dtype=uint8)\n",
      "\n",
      "second derivative:\n",
      " array([0, 0, 0, 0, 0, 0, 0], dtype=uint8)\n",
      "\n",
      "c:\n",
      " array([[1.0, 2.0, 3.0, 4.0],\n",
      "       [4.0, 3.0, 2.0, 1.0],\n",
      "       [1.0, 4.0, 9.0, 16.0],\n",
      "       [0.0, 0.0, 0.0, 0.0]], dtype=float64)\n",
      "\n",
      "first derivative, first axis:\n",
      " array([[3.0, 1.0, -1.0, -3.0],\n",
      "       [-3.0, 1.0, 7.0, 15.0],\n",
      "       [-1.0, -4.0, -9.0, -16.0]], dtype=float64)\n",
      "\n",
      "first derivative, second axis:\n",
      " array([[1.0, 1.0, 1.0],\n",
      "       [-1.0, -1.0, -1.0],\n",
      "       [3.0, 5.0, 7.0],\n",
      "       [0.0, 0.0, 0.0]], dtype=float64)\n",
      "\n",
      "\n"
     ]
    }
   ],
   "source": [
    "%%micropython -unix 1\n",
    "\n",
    "import ulab as np\n",
    "a = np.array(range(9), dtype=np.uint8)\n",
    "print('a:\\n', a)\n",
    "print('\\nfirst derivative:\\n', np.diff(a, n=1))\n",
    "print('\\nsecond derivative:\\n', np.diff(a, n=2))\n",
    "c = np.array([[1, 2, 3, 4], [4, 3, 2, 1], [1, 4, 9, 16], [0, 0, 0, 0]])\n",
    "print('\\nc:\\n', c)\n",
    "print('\\nfirst derivative, first axis:\\n', np.diff(c, axis=0))\n",
    "print('\\nfirst derivative, second axis:\\n', np.diff(c, axis=1))"
   ]
  },
  {
   "cell_type": "code",
   "execution_count": 5,
   "metadata": {
    "ExecuteTime": {
     "end_time": "2020-10-21T04:57:09.114017Z",
     "start_time": "2020-10-21T04:57:09.106125Z"
    }
   },
   "outputs": [
    {
     "name": "stdout",
     "output_type": "stream",
     "text": [
      "array([[True, True, True],\n",
      "       [False, False, False],\n",
      "       [False, False, False]], dtype=bool)\n",
      "\n",
      "\n"
     ]
    }
   ],
   "source": [
    "%%micropython -unix 1\n",
    "\n",
    "import ulab\n",
    "\n",
    "a = ulab.array(range(9), dtype=ulab.uint16).reshape((3,3))\n",
    "b = 1+ulab.array(range(3))\n",
    "\n",
    "print(a < b)"
   ]
  },
  {
   "cell_type": "code",
   "execution_count": 535,
   "metadata": {
    "ExecuteTime": {
     "end_time": "2020-09-30T17:04:58.367467Z",
     "start_time": "2020-09-30T17:04:58.353479Z"
    }
   },
   "outputs": [
    {
     "data": {
      "text/plain": [
       "array([-3,  6, -3], dtype=int32)"
      ]
     },
     "execution_count": 535,
     "metadata": {},
     "output_type": "execute_result"
    }
   ],
   "source": [
    "a = numpy.array([1, 2, 3], dtype=int16)\n",
    "b = numpy.array([4, 5, 6], dtype=uint16)\n",
    "c = numpy.cross(a, b)\n",
    "c"
   ]
  },
  {
   "cell_type": "code",
   "execution_count": 439,
   "metadata": {
    "ExecuteTime": {
     "end_time": "2020-08-19T14:49:52.101627Z",
     "start_time": "2020-08-19T14:49:52.086729Z"
    }
   },
   "outputs": [
    {
     "name": "stdout",
     "output_type": "stream",
     "text": [
      "array([[0, 1, 2],\n",
      "\t[3, 4, 5],\n",
      "\t[6, 7, 8], dtype=uint8)\n",
      "array([[6, 7, 8],\n",
      "\t[3, 4, 5],\n",
      "\t[0, 1, 2], dtype=uint8)\n",
      "\n",
      "\n"
     ]
    }
   ],
   "source": [
    "%%micropython -unix 1\n",
    "\n",
    "import ulab\n",
    "\n",
    "a = ulab.array(range(9), dtype=ulab.uint8).reshape((3, 3))\n",
    "print(a)\n",
    "b = ulab.numerical.flip(a, axis=0)\n",
    "print(b)"
   ]
  },
  {
   "cell_type": "code",
   "execution_count": 325,
   "metadata": {
    "ExecuteTime": {
     "end_time": "2020-11-06T17:59:17.842373Z",
     "start_time": "2020-11-06T17:59:17.817827Z"
    }
   },
   "outputs": [
    {
     "name": "stdout",
     "output_type": "stream",
     "text": [
      "7.5\n",
      "\n",
      "\n"
     ]
    }
   ],
   "source": [
    "%%micropython -unix 1\n",
    "\n",
    "import ulab as np\n",
    "    \n",
    "a = np.array(range(16), dtype=np.uint8).reshape((4,4))\n",
    "b = np.array([1, 2, 3], dtype=np.uint8)\n",
    "print(np.mean(np.mean(a, axis=0), axis=0))"
   ]
  },
  {
   "cell_type": "code",
   "execution_count": 4,
   "metadata": {
    "ExecuteTime": {
     "end_time": "2020-05-19T06:27:16.826946Z",
     "start_time": "2020-05-19T06:27:16.662255Z"
    }
   },
   "outputs": [
    {
     "name": "stdout",
     "output_type": "stream",
     "text": [
      "array([[1.0, 2.0],\n",
      "\t [3.0, 4.0]], dtype=float)\n",
      "array([[1.0, 2.0, 3.0, 4.0],\n",
      "\t [5.0, 6.0, 7.0, 8.0]], dtype=float)\n",
      "array([[11.0, 14.0, 17.0, 20.0],\n",
      "\t [23.0, 30.0, 37.0, 44.0]], dtype=float)\n",
      "\n",
      "\n"
     ]
    }
   ],
   "source": [
    "%%micropython -unix 1\n",
    "\n",
    "import ulab\n",
    "a = ulab.array([[1.0, 2.0], [3.0, 4.0]])\n",
    "b = ulab.array([[1.0, 2.0, 3.0, 4.0], [5.0, 6.0, 7.0, 8.0]])\n",
    "print(a)\n",
    "print(b)\n",
    "print(ulab.linalg.dot(a, b))"
   ]
  },
  {
   "cell_type": "code",
   "execution_count": 55,
   "metadata": {
    "ExecuteTime": {
     "end_time": "2020-04-14T06:50:26.153335Z",
     "start_time": "2020-04-14T06:50:26.141872Z"
    }
   },
   "outputs": [
    {
     "name": "stdout",
     "output_type": "stream",
     "text": [
      "[[1. 2.]\n",
      " [3. 4.]]\n",
      "[[1. 2. 3. 4.]\n",
      " [5. 6. 7. 8.]]\n"
     ]
    },
    {
     "data": {
      "text/plain": [
       "array([[11., 14., 17., 20.],\n",
       "       [23., 30., 37., 44.]])"
      ]
     },
     "execution_count": 55,
     "metadata": {},
     "output_type": "execute_result"
    }
   ],
   "source": [
    "a = array([[1.0, 2.0], [3.0, 4.0]])\n",
    "b = array([[1.0, 2.0, 3.0, 4.0], [5.0, 6.0, 7.0, 8.0]])\n",
    "print(a)\n",
    "print(b)\n",
    "dot(a, b)"
   ]
  },
  {
   "cell_type": "markdown",
   "metadata": {},
   "source": [
    "# Environmental settings and magic commands"
   ]
  },
  {
   "cell_type": "code",
   "execution_count": 1,
   "metadata": {
    "ExecuteTime": {
     "end_time": "2021-01-09T11:07:08.118483Z",
     "start_time": "2021-01-09T11:07:08.054221Z"
    }
   },
   "outputs": [
    {
     "name": "stdout",
     "output_type": "stream",
     "text": [
      "/home/v923z/sandbox/micropython/v1.11/micropython/ports/unix\n"
     ]
    }
   ],
   "source": [
    "%cd ../../micropython/ports/unix/"
   ]
  },
  {
   "cell_type": "code",
   "execution_count": 2,
   "metadata": {
    "ExecuteTime": {
     "end_time": "2021-01-09T11:07:09.256667Z",
     "start_time": "2021-01-09T11:07:09.250973Z"
    }
   },
   "outputs": [],
   "source": [
    "from IPython.core.magic import Magics, magics_class, line_cell_magic\n",
    "from IPython.core.magic import cell_magic, register_cell_magic, register_line_magic\n",
    "from IPython.core.magic_arguments import argument, magic_arguments, parse_argstring\n",
    "import subprocess\n",
    "import os"
   ]
  },
  {
   "cell_type": "markdown",
   "metadata": {},
   "source": [
    "## micropython magic command"
   ]
  },
  {
   "cell_type": "code",
   "execution_count": 3,
   "metadata": {
    "ExecuteTime": {
     "end_time": "2021-01-09T11:07:11.560408Z",
     "start_time": "2021-01-09T11:07:11.542490Z"
    }
   },
   "outputs": [],
   "source": [
    "@magics_class\n",
    "class PyboardMagic(Magics):\n",
    "    @cell_magic\n",
    "    @magic_arguments()\n",
    "    @argument('-skip')\n",
    "    @argument('-unix')\n",
    "    @argument('-file')\n",
    "    @argument('-data')\n",
    "    @argument('-time')\n",
    "    @argument('-memory')\n",
    "    def micropython(self, line='', cell=None):\n",
    "        args = parse_argstring(self.micropython, line)\n",
    "        if args.skip: # doesn't care about the cell's content\n",
    "            print('skipped execution')\n",
    "            return None # do not parse the rest\n",
    "        if args.unix: # tests the code on the unix port. Note that this works on unix only\n",
    "            with open('/dev/shm/micropython.py', 'w') as fout:\n",
    "                fout.write(cell)\n",
    "            proc = subprocess.Popen([\"./micropython\", \"/dev/shm/micropython.py\"], \n",
    "                                    stdout=subprocess.PIPE, stderr=subprocess.PIPE)\n",
    "            print(proc.stdout.read().decode(\"utf-8\"))\n",
    "            print(proc.stderr.read().decode(\"utf-8\"))\n",
    "            return None\n",
    "        if args.file: # can be used to copy the cell content onto the pyboard's flash\n",
    "            spaces = \"    \"\n",
    "            try:\n",
    "                with open(args.file, 'w') as fout:\n",
    "                    fout.write(cell.replace('\\t', spaces))\n",
    "                    printf('written cell to {}'.format(args.file))\n",
    "            except:\n",
    "                print('Failed to write to disc!')\n",
    "            return None # do not parse the rest\n",
    "        if args.data: # can be used to load data from the pyboard directly into kernel space\n",
    "            message = pyb.exec(cell)\n",
    "            if len(message) == 0:\n",
    "                print('pyboard >>>')\n",
    "            else:\n",
    "                print(message.decode('utf-8'))\n",
    "                # register new variable in user namespace\n",
    "                self.shell.user_ns[args.data] = string_to_matrix(message.decode(\"utf-8\"))\n",
    "        \n",
    "        if args.time: # measures the time of executions\n",
    "            pyb.exec('import utime')\n",
    "            message = pyb.exec('t = utime.ticks_us()\\n' + cell + '\\ndelta = utime.ticks_diff(utime.ticks_us(), t)' + \n",
    "                               \"\\nprint('execution time: {:d} us'.format(delta))\")\n",
    "            print(message.decode('utf-8'))\n",
    "        \n",
    "        if args.memory: # prints out memory information \n",
    "            message = pyb.exec('from micropython import mem_info\\nprint(mem_info())\\n')\n",
    "            print(\"memory before execution:\\n========================\\n\", message.decode('utf-8'))\n",
    "            message = pyb.exec(cell)\n",
    "            print(\">>> \", message.decode('utf-8'))\n",
    "            message = pyb.exec('print(mem_info())')\n",
    "            print(\"memory after execution:\\n========================\\n\", message.decode('utf-8'))\n",
    "\n",
    "        else:\n",
    "            message = pyb.exec(cell)\n",
    "            print(message.decode('utf-8'))\n",
    "\n",
    "ip = get_ipython()\n",
    "ip.register_magics(PyboardMagic)"
   ]
  },
  {
   "cell_type": "code",
   "execution_count": 34,
   "metadata": {
    "ExecuteTime": {
     "end_time": "2021-01-12T16:07:27.674366Z",
     "start_time": "2021-01-12T16:07:27.563820Z"
    }
   },
   "outputs": [
    {
     "ename": "NameError",
     "evalue": "name 'fft' is not defined",
     "output_type": "error",
     "traceback": [
      "\u001b[0;31m---------------------------------------------------------------------------\u001b[0m",
      "\u001b[0;31mNameError\u001b[0m                                 Traceback (most recent call last)",
      "\u001b[0;32m<ipython-input-34-6137b6262795>\u001b[0m in \u001b[0;36m<module>\u001b[0;34m\u001b[0m\n\u001b[0;32m----> 1\u001b[0;31m \u001b[0mfft\u001b[0m\u001b[0;34m.\u001b[0m\u001b[0mfft\u001b[0m\u001b[0;34m(\u001b[0m\u001b[0;34m[\u001b[0m\u001b[0;36m1\u001b[0m\u001b[0;34m,\u001b[0m \u001b[0;36m2\u001b[0m\u001b[0;34m,\u001b[0m \u001b[0;36m3\u001b[0m\u001b[0;34m]\u001b[0m\u001b[0;34m)\u001b[0m\u001b[0;34m\u001b[0m\u001b[0;34m\u001b[0m\u001b[0m\n\u001b[0m",
      "\u001b[0;31mNameError\u001b[0m: name 'fft' is not defined"
     ]
    }
   ],
   "source": [
    "fft.fft([1, 2, 3])"
   ]
  },
  {
   "cell_type": "code",
   "execution_count": 33,
   "metadata": {
    "ExecuteTime": {
     "end_time": "2021-01-11T18:49:56.503687Z",
     "start_time": "2021-01-11T18:49:56.485428Z"
    }
   },
   "outputs": [
    {
     "name": "stdout",
     "output_type": "stream",
     "text": [
      "bytearray(b'\\x01\\x00\\x02\\x00\\x03\\x00\\x04\\x00\\x05\\x00\\x06\\x00\\x07\\x00\\x08\\x00\\t\\x00\\n\\x00')\n",
      "bytearray(b'\\x01\\x02\\x03\\x04\\x05\\x06\\x07\\x08\\t\\n')\n",
      "\n",
      "\n"
     ]
    }
   ],
   "source": [
    "%%micropython -unix 1\n",
    "\n",
    "from ulab import numpy as np\n",
    "\n",
    "a = np.linspace(1,10,10, dtype = np.int16)\n",
    "print(a.tobytes())\n",
    "print(np.linspace(1,10,10, dtype = np.int8).tobytes())"
   ]
  },
  {
   "cell_type": "code",
   "execution_count": 22,
   "metadata": {
    "ExecuteTime": {
     "end_time": "2021-01-10T19:52:01.425118Z",
     "start_time": "2021-01-10T19:52:01.410508Z"
    }
   },
   "outputs": [
    {
     "name": "stdout",
     "output_type": "stream",
     "text": [
      "['__class__', '__name__', 'bool', '__version__', 'approx', 'array', 'dtype', 'e', 'float', 'inf', 'int16', 'int8', 'nan', 'ndarray', 'pi', 'uint16', 'uint8', 'vector']\n",
      "['__class__', '__name__', 'bisect', 'fmin', 'interp', 'newton', 'trapz']\n",
      "array([4, 6, 8, 2, 10], dtype=uint16)\n",
      "array([0.9092974268256818, 0.1411200080598672, -0.7568024953079282, 0.8414709848078965, -0.9589242746631385], dtype=float64)\n",
      "\n",
      "\n"
     ]
    }
   ],
   "source": [
    "%%micropython -unix 1\n",
    "\n",
    "import ulab as np\n",
    "\n",
    "print(dir(np))\n",
    "print(dir(np.approx))\n",
    "x = np.ndarray([2, 3, 4, 1, 5], dtype=np.uint8)\n",
    "# # x.sort()\n",
    "print(x + x)\n",
    "print(np.vector.sin(x))"
   ]
  },
  {
   "cell_type": "code",
   "execution_count": 147,
   "metadata": {
    "ExecuteTime": {
     "end_time": "2020-11-25T18:03:24.896225Z",
     "start_time": "2020-11-25T18:03:24.888816Z"
    }
   },
   "outputs": [
    {
     "data": {
      "text/plain": [
       "array([1, 2, 3])"
      ]
     },
     "execution_count": 147,
     "metadata": {},
     "output_type": "execute_result"
    }
   ],
   "source": [
    "np.array([1, 2, 3])"
   ]
  },
  {
   "cell_type": "code",
   "execution_count": 191,
   "metadata": {
    "ExecuteTime": {
     "end_time": "2020-11-26T16:13:16.756339Z",
     "start_time": "2020-11-26T16:13:16.740722Z"
    }
   },
   "outputs": [
    {
     "data": {
      "text/plain": [
       "array([1027, 1541, 2055], dtype=uint16)"
      ]
     },
     "execution_count": 191,
     "metadata": {},
     "output_type": "execute_result"
    }
   ],
   "source": [
    "a = bytes(range(1, 9))\n",
    "\n",
    "frombuffer(a, dtype=np.uint16, count=-4, offset=2)"
   ]
  },
  {
   "cell_type": "code",
   "execution_count": 226,
   "metadata": {
    "ExecuteTime": {
     "end_time": "2020-11-27T06:58:29.993776Z",
     "start_time": "2020-11-27T06:58:29.982004Z"
    }
   },
   "outputs": [
    {
     "name": "stdout",
     "output_type": "stream",
     "text": [
      "b'\\x00\\x01\\x02\\x03\\x04\\x05\\x06\\x07\\x08\\t\\n\\x0b\\x0c\\r\\x0e\\x0f'\n",
      "\n",
      "array([0, 1, 2, 3, 4, 5, 6, 7, 8, 9, 10, 11, 12, 13, 14, 15], dtype=uint8)\n",
      "array([256, 770, 1284, 1798, 2312, 2826, 3340, 3854], dtype=uint16)\n",
      "array([7.949928895127362e-275, 3.691916204865093e-236], dtype=float64)\n",
      "\n",
      "\n"
     ]
    }
   ],
   "source": [
    "%%micropython -unix 1\n",
    "\n",
    "from ulab import numpy as np\n",
    "\n",
    "np.set_printoptions(edgeitems=10)\n",
    "a = bytes(range(0, 16))\n",
    "print(a)\n",
    "print()\n",
    "print(np.frombuffer(a, dtype=np.uint8))\n",
    "print(np.frombuffer(a, dtype=np.uint16))\n",
    "print(np.frombuffer(a, dtype=np.float))"
   ]
  },
  {
   "cell_type": "code",
   "execution_count": 223,
   "metadata": {
    "ExecuteTime": {
     "end_time": "2020-11-27T06:49:22.033982Z",
     "start_time": "2020-11-27T06:49:22.022747Z"
    }
   },
   "outputs": [
    {
     "name": "stdout",
     "output_type": "stream",
     "text": [
      "array([0.0, 3.578148333593648, 0.8866838581002703, 0.5428528178480891, 0.4815746188075286, 0.5428528178480885, 0.8866838581002703, 3.578148333593647], dtype=float64)\n",
      "\n",
      "\n"
     ]
    }
   ],
   "source": [
    "%%micropython -unix 1\n",
    "\n",
    "from ulab import numpy as np\n",
    "from ulab import scipy as spy\n",
    "\n",
    "x = np.linspace(-np.pi, np.pi, num=8)\n",
    "y = np.sin(x)\n",
    "\n",
    "a = spy.signal.spectrogram(y)\n",
    "print(a)"
   ]
  },
  {
   "cell_type": "code",
   "execution_count": 224,
   "metadata": {
    "ExecuteTime": {
     "end_time": "2020-11-27T06:49:42.219306Z",
     "start_time": "2020-11-27T06:49:42.209035Z"
    }
   },
   "outputs": [
    {
     "name": "stdout",
     "output_type": "stream",
     "text": [
      "[ 0.         12.8031455   0.78620826  0.29468918  0.23191411  0.29468918\n",
      "  0.78620826 12.8031455 ]\n"
     ]
    }
   ],
   "source": [
    "x = np.linspace(-np.pi, np.pi, num=8)\n",
    "y = np.sin(x)\n",
    "\n",
    "a = np.fft.fft(y)\n",
    "print(a.real**2 + a.imag**2)"
   ]
  },
  {
   "cell_type": "code",
   "execution_count": 217,
   "metadata": {
    "ExecuteTime": {
     "end_time": "2020-11-26T16:34:50.333059Z",
     "start_time": "2020-11-26T16:34:50.315847Z"
    }
   },
   "outputs": [
    {
     "name": "stdout",
     "output_type": "stream",
     "text": [
      "[ 0  1  2  3  4  5  6  7  8  9 10 11 12 13 14 15]\n",
      "[ 256  770 1284 1798 2312 2826 3340 3854]\n",
      "[7.9499289e-275 3.6919162e-236]\n"
     ]
    }
   ],
   "source": [
    "a = bytes(range(0, 16))\n",
    "\n",
    "print(np.frombuffer(a, dtype=np.uint8))\n",
    "print(np.frombuffer(a, dtype=np.uint16))\n",
    "print(np.frombuffer(a, dtype=np.float))"
   ]
  },
  {
   "cell_type": "code",
   "execution_count": 213,
   "metadata": {
    "ExecuteTime": {
     "end_time": "2020-11-26T16:31:32.978132Z",
     "start_time": "2020-11-26T16:31:32.974424Z"
    }
   },
   "outputs": [],
   "source": [
    "a = bytes(range(0, 16))\n",
    "b = np.frombuffer(a, dtype=np.uint16)\n",
    "c = np.frombuffer(a, dtype=np.uint16)"
   ]
  },
  {
   "cell_type": "code",
   "execution_count": 214,
   "metadata": {
    "ExecuteTime": {
     "end_time": "2020-11-26T16:31:41.959053Z",
     "start_time": "2020-11-26T16:31:41.945352Z"
    }
   },
   "outputs": [
    {
     "ename": "ValueError",
     "evalue": "assignment destination is read-only",
     "output_type": "error",
     "traceback": [
      "\u001b[0;31m---------------------------------------------------------------------------\u001b[0m",
      "\u001b[0;31mValueError\u001b[0m                                Traceback (most recent call last)",
      "\u001b[0;32m<ipython-input-214-2f1d7af0b689>\u001b[0m in \u001b[0;36m<module>\u001b[0;34m\u001b[0m\n\u001b[0;32m----> 1\u001b[0;31m \u001b[0mc\u001b[0m\u001b[0;34m[\u001b[0m\u001b[0;36m0\u001b[0m\u001b[0;34m]\u001b[0m \u001b[0;34m=\u001b[0m \u001b[0;36m33\u001b[0m\u001b[0;34m\u001b[0m\u001b[0;34m\u001b[0m\u001b[0m\n\u001b[0m",
      "\u001b[0;31mValueError\u001b[0m: assignment destination is read-only"
     ]
    }
   ],
   "source": [
    "c[0] = 33"
   ]
  },
  {
   "cell_type": "code",
   "execution_count": 212,
   "metadata": {
    "ExecuteTime": {
     "end_time": "2020-11-26T16:29:49.819203Z",
     "start_time": "2020-11-26T16:29:49.810431Z"
    }
   },
   "outputs": [
    {
     "ename": "TypeError",
     "evalue": "'bytes' object does not support item assignment",
     "output_type": "error",
     "traceback": [
      "\u001b[0;31m---------------------------------------------------------------------------\u001b[0m",
      "\u001b[0;31mTypeError\u001b[0m                                 Traceback (most recent call last)",
      "\u001b[0;32m<ipython-input-212-bb21b1de5b23>\u001b[0m in \u001b[0;36m<module>\u001b[0;34m\u001b[0m\n\u001b[0;32m----> 1\u001b[0;31m \u001b[0ma\u001b[0m\u001b[0;34m[\u001b[0m\u001b[0;36m0\u001b[0m\u001b[0;34m]\u001b[0m \u001b[0;34m=\u001b[0m \u001b[0;36m33\u001b[0m\u001b[0;34m\u001b[0m\u001b[0;34m\u001b[0m\u001b[0m\n\u001b[0m\u001b[1;32m      2\u001b[0m \u001b[0mb\u001b[0m\u001b[0;34m\u001b[0m\u001b[0;34m\u001b[0m\u001b[0m\n",
      "\u001b[0;31mTypeError\u001b[0m: 'bytes' object does not support item assignment"
     ]
    }
   ],
   "source": [
    "a[0] = 33\n",
    "b"
   ]
  },
  {
   "cell_type": "code",
   "execution_count": 100,
   "metadata": {
    "ExecuteTime": {
     "end_time": "2020-11-24T11:10:21.313441Z",
     "start_time": "2020-11-24T11:10:21.258701Z"
    },
    "scrolled": false
   },
   "outputs": [
    {
     "data": {
      "text/plain": [
       "array([[ 4,  9, 14, 19],\n",
       "       [ 3,  8, 13, 18],\n",
       "       [ 2,  7, 12, 17],\n",
       "       [ 1,  6, 11, 16],\n",
       "       [ 0,  5, 10, 15]])"
      ]
     },
     "execution_count": 100,
     "metadata": {},
     "output_type": "execute_result"
    }
   ],
   "source": [
    "a = array(range(20)).reshape((4, 5))\n",
    "rot90(a)"
   ]
  },
  {
   "cell_type": "code",
   "execution_count": 509,
   "metadata": {
    "ExecuteTime": {
     "end_time": "2020-11-19T18:21:37.868198Z",
     "start_time": "2020-11-19T18:21:37.845752Z"
    }
   },
   "outputs": [
    {
     "name": "stdout",
     "output_type": "stream",
     "text": [
      "1.4.3-3D-numpy\n",
      "array([[3, 3],\n",
      "       [3, 3]], dtype=uint8)\n",
      "\n",
      "array([[[0, 0],\n",
      "       [0, 0]],\n",
      "\n",
      "       [[0, 0],\n",
      "       [0, 0]]], dtype=uint16)\n",
      "\n",
      "\n",
      "\n"
     ]
    }
   ],
   "source": [
    "%%micropython -unix 1\n",
    "\n",
    "import ulab as np\n",
    "\n",
    "print(np.__version__)\n",
    "\n",
    "print(np.full((2,2), 3, dtype=np.uint8))\n",
    "print()\n",
    "print(np.zeros((2,2,2), dtype=np.uint16))\n",
    "print()\n",
    "# print(np.ones((2,2,2,2), dtype=np.float))"
   ]
  },
  {
   "cell_type": "code",
   "execution_count": 521,
   "metadata": {
    "ExecuteTime": {
     "end_time": "2020-11-19T21:45:11.534267Z",
     "start_time": "2020-11-19T21:45:11.512630Z"
    }
   },
   "outputs": [
    {
     "name": "stdout",
     "output_type": "stream",
     "text": [
      "1.4.5-2D-cpy\n",
      "array([[-6, -5, -4, -3, -2],\n",
      "       [-21, -20, -19, -18, -17],\n",
      "       [-11, -10, -9, -8, -7]], dtype=int8)\n",
      "\n",
      "Traceback (most recent call last):\n",
      "  File \"/dev/shm/micropython.py\", line 8, in <module>\n",
      "AttributeError: 'module' object has no attribute 'min'\n",
      "\n"
     ]
    }
   ],
   "source": [
    "%%micropython -unix 1\n",
    "\n",
    "import ulab as np\n",
    "\n",
    "print(np.__version__)\n",
    "\n",
    "a = np.array([range(255-5, 255),range(240-5, 240),range(250-5,250)], dtype=np.int8)\n",
    "print(a)\n",
    "print(np.min(a))"
   ]
  },
  {
   "cell_type": "code",
   "execution_count": 411,
   "metadata": {
    "ExecuteTime": {
     "end_time": "2020-11-19T06:20:17.803308Z",
     "start_time": "2020-11-19T06:20:17.799907Z"
    }
   },
   "outputs": [
    {
     "data": {
      "text/plain": [
       "dtype('uint8')"
      ]
     },
     "execution_count": 411,
     "metadata": {},
     "output_type": "execute_result"
    }
   ],
   "source": [
    "dtype('uint8')"
   ]
  },
  {
   "cell_type": "code",
   "execution_count": 402,
   "metadata": {
    "ExecuteTime": {
     "end_time": "2020-11-18T20:38:02.340342Z",
     "start_time": "2020-11-18T20:38:02.324993Z"
    }
   },
   "outputs": [
    {
     "name": "stdout",
     "output_type": "stream",
     "text": [
      "array([251, 252, 253, 254, 255], dtype=uint8)\n",
      "array([-5, -4, -3, -2, -1], dtype=int8)\n",
      "array([65531, 65532, 65533, 65534, 65535], dtype=uint16)\n",
      "array([-5, -4, -3, -2, -1], dtype=int16)\n",
      "array([7.205759403792793e+16, 7.205759403792793e+16, 7.205759403792793e+16], dtype=float64)\n",
      "\n",
      "\n"
     ]
    }
   ],
   "source": [
    "%%micropython -unix 1\n",
    "\n",
    "import ulab as np\n",
    "\n",
    "print(np.array(range(2**8-5, 2**8), dtype=np.uint8))\n",
    "print(np.array(range(2**8-5, 2**8), dtype=np.int8))\n",
    "print(np.array(range(2**16-5, 2**16), dtype=np.uint16))\n",
    "print(np.array(range(2**16-5, 2**16), dtype=np.int16))\n",
    "print(np.array(range(2**56-3, 2**56), dtype=np.float))"
   ]
  },
  {
   "cell_type": "code",
   "execution_count": 359,
   "metadata": {
    "ExecuteTime": {
     "end_time": "2020-11-17T17:26:51.517298Z",
     "start_time": "2020-11-17T17:26:51.502003Z"
    }
   },
   "outputs": [
    {
     "ename": "AttributeError",
     "evalue": "module 'numpy.linalg' has no attribute 'size'",
     "output_type": "error",
     "traceback": [
      "\u001b[0;31m---------------------------------------------------------------------------\u001b[0m",
      "\u001b[0;31mAttributeError\u001b[0m                            Traceback (most recent call last)",
      "\u001b[0;32m<ipython-input-359-02147edba10a>\u001b[0m in \u001b[0;36m<module>\u001b[0;34m\u001b[0m\n\u001b[1;32m      1\u001b[0m \u001b[0mb\u001b[0m \u001b[0;34m=\u001b[0m \u001b[0mnp\u001b[0m\u001b[0;34m.\u001b[0m\u001b[0marray\u001b[0m\u001b[0;34m(\u001b[0m\u001b[0;34m[\u001b[0m\u001b[0;34m[\u001b[0m\u001b[0;36m1\u001b[0m\u001b[0;34m,\u001b[0m \u001b[0;36m2\u001b[0m\u001b[0;34m]\u001b[0m\u001b[0;34m,\u001b[0m \u001b[0;34m[\u001b[0m\u001b[0;36m3\u001b[0m\u001b[0;34m,\u001b[0m \u001b[0;36m4\u001b[0m\u001b[0;34m]\u001b[0m\u001b[0;34m]\u001b[0m\u001b[0;34m,\u001b[0m \u001b[0mdtype\u001b[0m\u001b[0;34m=\u001b[0m\u001b[0mnp\u001b[0m\u001b[0;34m.\u001b[0m\u001b[0mint8\u001b[0m\u001b[0;34m)\u001b[0m\u001b[0;34m\u001b[0m\u001b[0;34m\u001b[0m\u001b[0m\n\u001b[0;32m----> 2\u001b[0;31m \u001b[0mprint\u001b[0m\u001b[0;34m(\u001b[0m\u001b[0mnp\u001b[0m\u001b[0;34m.\u001b[0m\u001b[0mlinalg\u001b[0m\u001b[0;34m.\u001b[0m\u001b[0msize\u001b[0m\u001b[0;34m(\u001b[0m\u001b[0mb\u001b[0m\u001b[0;34m,\u001b[0m \u001b[0maxis\u001b[0m\u001b[0;34m=\u001b[0m\u001b[0;32mNone\u001b[0m\u001b[0;34m)\u001b[0m\u001b[0;34m)\u001b[0m\u001b[0;34m\u001b[0m\u001b[0;34m\u001b[0m\u001b[0m\n\u001b[0m\u001b[1;32m      3\u001b[0m \u001b[0mprint\u001b[0m\u001b[0;34m(\u001b[0m\u001b[0mnp\u001b[0m\u001b[0;34m.\u001b[0m\u001b[0mlinalg\u001b[0m\u001b[0;34m.\u001b[0m\u001b[0msize\u001b[0m\u001b[0;34m(\u001b[0m\u001b[0mb\u001b[0m\u001b[0;34m,\u001b[0m \u001b[0maxis\u001b[0m\u001b[0;34m=\u001b[0m\u001b[0;36m0\u001b[0m\u001b[0;34m)\u001b[0m\u001b[0;34m)\u001b[0m\u001b[0;34m\u001b[0m\u001b[0;34m\u001b[0m\u001b[0m\n\u001b[1;32m      4\u001b[0m \u001b[0mprint\u001b[0m\u001b[0;34m(\u001b[0m\u001b[0mnp\u001b[0m\u001b[0;34m.\u001b[0m\u001b[0mlinalg\u001b[0m\u001b[0;34m.\u001b[0m\u001b[0msize\u001b[0m\u001b[0;34m(\u001b[0m\u001b[0mb\u001b[0m\u001b[0;34m,\u001b[0m \u001b[0maxis\u001b[0m\u001b[0;34m=\u001b[0m\u001b[0;36m1\u001b[0m\u001b[0;34m)\u001b[0m\u001b[0;34m)\u001b[0m\u001b[0;34m\u001b[0m\u001b[0;34m\u001b[0m\u001b[0m\n",
      "\u001b[0;31mAttributeError\u001b[0m: module 'numpy.linalg' has no attribute 'size'"
     ]
    }
   ],
   "source": [
    "b = np.array([[1, 2], [3, 4]], dtype=np.int8)\n",
    "print(np.linalg.size(b, axis=None))\n",
    "print(np.linalg.size(b, axis=0))\n",
    "print(np.linalg.size(b, axis=1))"
   ]
  },
  {
   "cell_type": "code",
   "execution_count": 386,
   "metadata": {
    "ExecuteTime": {
     "end_time": "2020-11-18T18:10:09.035450Z",
     "start_time": "2020-11-18T18:10:09.015811Z"
    }
   },
   "outputs": [
    {
     "name": "stdout",
     "output_type": "stream",
     "text": [
      "0.8164965809277261\n",
      "0.8164965809277261\n",
      "array([[252.0, 253.0, 254.0],\n",
      "       [237.0, 238.0, 239.0],\n",
      "       [247.0, 248.0, 249.0]], dtype=float64)\n",
      "6.289320754704405\n",
      "array([6.236095644623235, 6.236095644623235, 6.236095644623235], dtype=float64)\n",
      "array([0.8164965809277261, 0.8164965809277261, 0.8164965809277261], dtype=float64)\n",
      "\n",
      "\n"
     ]
    }
   ],
   "source": [
    "%%micropython -unix 1\n",
    "\n",
    "import ulab as np\n",
    "\n",
    "a = np.array([253, 254, 255], dtype=np.uint8)\n",
    "print(np.std(a))\n",
    "print(np.std(a, axis=0))\n",
    "a = np.array([range(255-3, 255),range(240-3, 240),range(250-3,250)], dtype=np.float)\n",
    "print(a)\n",
    "print(np.std(a))\n",
    "print(np.std(a, axis=0))\n",
    "print(np.std(a, axis=1))"
   ]
  },
  {
   "cell_type": "code",
   "execution_count": 385,
   "metadata": {
    "ExecuteTime": {
     "end_time": "2020-11-18T18:06:45.807811Z",
     "start_time": "2020-11-18T18:06:45.798530Z"
    },
    "scrolled": true
   },
   "outputs": [
    {
     "name": "stdout",
     "output_type": "stream",
     "text": [
      "0.816496580927726\n",
      "0.816496580927726\n",
      "[[252. 253. 254.]\n",
      " [237. 238. 239.]\n",
      " [247. 248. 249.]]\n",
      "6.289320754704403\n",
      "[6.23609564 6.23609564 6.23609564]\n",
      "[0.81649658 0.81649658 0.81649658]\n"
     ]
    }
   ],
   "source": [
    "a = np.array([253, 254, 255], dtype=np.uint8)\n",
    "print(np.std(a))\n",
    "print(np.std(a, axis=0))\n",
    "a = np.array([range(255-3, 255),range(240-3, 240),range(250-3,250)], dtype=np.float)\n",
    "print(a)\n",
    "print(np.std(a))\n",
    "print(np.std(a, axis=0))\n",
    "print(np.std(a, axis=1))"
   ]
  },
  {
   "cell_type": "code",
   "execution_count": 371,
   "metadata": {
    "ExecuteTime": {
     "end_time": "2020-11-18T07:04:32.531751Z",
     "start_time": "2020-11-18T07:04:32.518040Z"
    }
   },
   "outputs": [
    {
     "data": {
      "text/plain": [
       "(2.8722813232690143, 26.852374196707448)"
      ]
     },
     "execution_count": 371,
     "metadata": {},
     "output_type": "execute_result"
    }
   ],
   "source": [
    "x = np.linspace(0, 9, num=10)\n",
    "y = x*x\n",
    "std(x), std(y)"
   ]
  },
  {
   "cell_type": "code",
   "execution_count": 357,
   "metadata": {
    "ExecuteTime": {
     "end_time": "2020-11-17T17:15:32.394352Z",
     "start_time": "2020-11-17T17:15:32.384293Z"
    }
   },
   "outputs": [
    {
     "name": "stdout",
     "output_type": "stream",
     "text": [
      "array([0, 1, 2, 3, 4, 5, 6, 7, 8, 9], dtype=int16)\n",
      "array([8, 9, 0, 1, 2, 3, 4, 5, 6, 7], dtype=int16)\n",
      "array([2, 3, 4, 5, 6, 7, 8, 9, 0, 1], dtype=int16)\n",
      "array([2, 3, 4, 5, 6, 7, 8, 9, 0, 1], dtype=int16)\n",
      "array([[0, 1, 2, 3, 4],\n",
      "       [5, 6, 7, 8, 9],\n",
      "       [10, 11, 12, 13, 14],\n",
      "       [15, 16, 17, 18, 19]], dtype=uint8)\n",
      "array([[17, 18, 19, 0, 1],\n",
      "       [2, 3, 4, 5, 6],\n",
      "       [7, 8, 9, 10, 11],\n",
      "       [12, 13, 14, 15, 16]], dtype=uint8)\n",
      "array([[2, 3, 4, 0, 1],\n",
      "       [7, 8, 9, 5, 6],\n",
      "       [12, 13, 14, 10, 11],\n",
      "       [17, 18, 19, 15, 16]], dtype=uint8)\n",
      "array([[10, 11, 12, 13, 14],\n",
      "       [15, 16, 17, 18, 19],\n",
      "       [0, 1, 2, 3, 4],\n",
      "       [5, 6, 7, 8, 9]], dtype=uint8)\n",
      "\n",
      "\n"
     ]
    }
   ],
   "source": [
    "%%micropython -unix 1\n",
    "\n",
    "import ulab as np\n",
    "\n",
    "a = np.arange(10)\n",
    "print(a)\n",
    "print(np.roll(a, 2))\n",
    "print(np.roll(a, -2))\n",
    "print(np.roll(a, -2, axis=0))\n",
    "a = np.array(np.arange(20), dtype=np.uint8).reshape((4, 5))\n",
    "print(a)\n",
    "print(np.roll(a, 3))\n",
    "print(np.roll(a, 3, axis=1))\n",
    "print(np.roll(a, 2, axis=0))"
   ]
  },
  {
   "cell_type": "code",
   "execution_count": 248,
   "metadata": {
    "ExecuteTime": {
     "end_time": "2020-11-16T20:44:25.773332Z",
     "start_time": "2020-11-16T20:44:25.757277Z"
    }
   },
   "outputs": [
    {
     "name": "stdout",
     "output_type": "stream",
     "text": [
      "0.8164965809277261\n",
      "0.7071067811865476\n",
      "6.289320754704405\n",
      "array([7.071067811865476, 7.071067811865476, 7.071067811865476], dtype=float64)\n",
      "array([0.7071067811865476, 0.7071067811865476, 0.7071067811865476], dtype=float64)\n",
      "\n",
      "\n"
     ]
    }
   ],
   "source": [
    "%%micropython -unix 1\n",
    "\n",
    "import ulab as np\n",
    "\n",
    "a = np.array([253, 254, 255], dtype=np.uint8)\n",
    "print(np.std(a))\n",
    "print(np.std(a, axis=0))\n",
    "a = np.array([range(255-3, 255),range(240-3, 240),range(250-3,250)], dtype=np.float)\n",
    "print(np.std(a))\n",
    "print(np.std(a, axis=0))\n",
    "print(np.std(a, axis=1))"
   ]
  },
  {
   "cell_type": "code",
   "execution_count": 249,
   "metadata": {
    "ExecuteTime": {
     "end_time": "2020-11-16T20:44:36.697728Z",
     "start_time": "2020-11-16T20:44:36.682641Z"
    }
   },
   "outputs": [
    {
     "name": "stdout",
     "output_type": "stream",
     "text": [
      "0.816496580927726\n",
      "0.816496580927726\n",
      "6.289320754704403\n",
      "[6.23609564 6.23609564 6.23609564]\n",
      "[0.81649658 0.81649658 0.81649658]\n"
     ]
    }
   ],
   "source": [
    "a = np.array([253, 254, 255], dtype=np.uint8)\n",
    "print(np.std(a))\n",
    "print(np.std(a, axis=0))\n",
    "a = np.array([range(255-3, 255),range(240-3, 240),range(250-3,250)], dtype=np.float)\n",
    "print(np.std(a))\n",
    "print(np.std(a, axis=0))\n",
    "print(np.std(a, axis=1))"
   ]
  },
  {
   "cell_type": "code",
   "execution_count": 17,
   "metadata": {
    "ExecuteTime": {
     "end_time": "2020-10-23T20:07:13.929572Z",
     "start_time": "2020-10-23T20:07:13.909619Z"
    }
   },
   "outputs": [
    {
     "data": {
      "text/plain": [
       "array([], dtype=int64)"
      ]
     },
     "execution_count": 17,
     "metadata": {},
     "output_type": "execute_result"
    }
   ],
   "source": [
    "a = array(range(12))\n",
    "a[-1:-1:-3]"
   ]
  },
  {
   "cell_type": "code",
   "execution_count": 195,
   "metadata": {
    "ExecuteTime": {
     "end_time": "2020-11-11T16:20:19.122796Z",
     "start_time": "2020-11-11T16:20:19.100701Z"
    }
   },
   "outputs": [
    {
     "name": "stdout",
     "output_type": "stream",
     "text": [
      "50.0\n",
      "\n",
      "\n"
     ]
    }
   ],
   "source": [
    "%%micropython -unix 1\n",
    "\n",
    "import ulab as np\n",
    "\n",
    "a = np.array(range(11))\n",
    "print(np.trapz(a, dx=1.0))"
   ]
  },
  {
   "cell_type": "code",
   "execution_count": 196,
   "metadata": {
    "ExecuteTime": {
     "end_time": "2020-11-11T16:20:22.543206Z",
     "start_time": "2020-11-11T16:20:22.537292Z"
    }
   },
   "outputs": [
    {
     "data": {
      "text/plain": [
       "50.0"
      ]
     },
     "execution_count": 196,
     "metadata": {},
     "output_type": "execute_result"
    }
   ],
   "source": [
    "a = np.array(range(11))\n",
    "np.trapz(a, dx=1.0)"
   ]
  },
  {
   "cell_type": "code",
   "execution_count": 361,
   "metadata": {
    "ExecuteTime": {
     "end_time": "2020-08-17T19:34:59.699280Z",
     "start_time": "2020-08-17T19:34:59.685753Z"
    }
   },
   "outputs": [
    {
     "ename": "TypeError",
     "evalue": "No loop matching the specified signature and casting was found for ufunc sin",
     "output_type": "error",
     "traceback": [
      "\u001b[0;31m---------------------------------------------------------------------------\u001b[0m",
      "\u001b[0;31mTypeError\u001b[0m                                 Traceback (most recent call last)",
      "\u001b[0;32m<ipython-input-361-02aa7286d747>\u001b[0m in \u001b[0;36m<module>\u001b[0;34m\u001b[0m\n\u001b[1;32m      1\u001b[0m \u001b[0ma\u001b[0m \u001b[0;34m=\u001b[0m \u001b[0marray\u001b[0m\u001b[0;34m(\u001b[0m\u001b[0;34m[\u001b[0m\u001b[0;36m4\u001b[0m\u001b[0;34m,\u001b[0m \u001b[0;36m2\u001b[0m\u001b[0;34m,\u001b[0m \u001b[0;36m3\u001b[0m\u001b[0;34m]\u001b[0m\u001b[0;34m,\u001b[0m \u001b[0mdtype\u001b[0m\u001b[0;34m=\u001b[0m\u001b[0muint8\u001b[0m\u001b[0;34m)\u001b[0m\u001b[0;34m\u001b[0m\u001b[0;34m\u001b[0m\u001b[0m\n\u001b[0;32m----> 2\u001b[0;31m \u001b[0msin\u001b[0m\u001b[0;34m(\u001b[0m\u001b[0ma\u001b[0m\u001b[0;34m,\u001b[0m \u001b[0mdtype\u001b[0m\u001b[0;34m=\u001b[0m\u001b[0muint8\u001b[0m\u001b[0;34m)\u001b[0m\u001b[0;34m\u001b[0m\u001b[0;34m\u001b[0m\u001b[0m\n\u001b[0m",
      "\u001b[0;31mTypeError\u001b[0m: No loop matching the specified signature and casting was found for ufunc sin"
     ]
    }
   ],
   "source": [
    "a = array([4, 2, 3], dtype=uint8)\n",
    "sin(a, dtype=uint8)"
   ]
  },
  {
   "cell_type": "code",
   "execution_count": 357,
   "metadata": {
    "ExecuteTime": {
     "end_time": "2020-08-17T16:19:31.593241Z",
     "start_time": "2020-08-17T16:19:31.568333Z"
    }
   },
   "outputs": [
    {
     "name": "stdout",
     "output_type": "stream",
     "text": [
      "(3, 1) (3, 3)\n",
      "array([[0, 1, 2],\n",
      "\t[3, 4, 5],\n",
      "\t[6, 7, 8], dtype=uint8)\n",
      "hereherearray([[2, 3, 4],\n",
      "\t[6, 7, 8],\n",
      "\t[10, 11, 12], dtype=uint8)\n",
      "\n",
      "\n"
     ]
    }
   ],
   "source": [
    "%%micropython -unix 1\n",
    "\n",
    "import ulab\n",
    "\n",
    "a = ulab.array(range(9), dtype=ulab.uint8).reshape((3,3))\n",
    "b = ulab.array([2, 3, 4], dtype=ulab.uint8).reshape((3, 1))\n",
    "print(b.shape(), a.shape())\n",
    "print(a)\n",
    "print(b+a)"
   ]
  },
  {
   "cell_type": "code",
   "execution_count": 363,
   "metadata": {
    "ExecuteTime": {
     "end_time": "2020-08-17T20:12:19.374014Z",
     "start_time": "2020-08-17T20:12:19.348603Z"
    }
   },
   "outputs": [
    {
     "name": "stdout",
     "output_type": "stream",
     "text": [
      "array([12.0, 3.0], dtype=float)\n",
      "\n",
      "\n"
     ]
    }
   ],
   "source": [
    "%%micropython -unix 1\n",
    "\n",
    "import ulab\n",
    "from ulab import linalg\n",
    "a = ulab.array([12, 3])\n",
    "print(a)"
   ]
  },
  {
   "cell_type": "code",
   "execution_count": 43,
   "metadata": {
    "ExecuteTime": {
     "end_time": "2020-08-13T20:15:21.260589Z",
     "start_time": "2020-08-13T20:15:21.248751Z"
    }
   },
   "outputs": [
    {
     "name": "stdout",
     "output_type": "stream",
     "text": [
      "(-8,)\n",
      "8.0\n",
      "6.0\n",
      "4.0\n",
      "2.0\n",
      "0.0\n",
      "\n",
      "\n"
     ]
    }
   ],
   "source": [
    "%%micropython -unix 1\n",
    "\n",
    "import ulab\n",
    "\n",
    "a = ulab.array(range(9))\n",
    "\n",
    "print(a[::-1].strides())\n",
    "for _a in a[::-2]:\n",
    "    print(_a)"
   ]
  },
  {
   "cell_type": "code",
   "execution_count": 502,
   "metadata": {
    "ExecuteTime": {
     "end_time": "2020-08-13T10:06:24.485757Z",
     "start_time": "2020-08-13T10:06:24.460518Z"
    }
   },
   "outputs": [
    {
     "name": "stdout",
     "output_type": "stream",
     "text": [
      "array([0, 1, 2, 3, 4, 5, 6, 7, 8, 9], dtype=uint8)\n",
      "array([255, 253, 251, 249, 247], dtype=uint8)\n",
      "\n",
      "\n"
     ]
    }
   ],
   "source": [
    "%%micropython -unix 1\n",
    "\n",
    "import ulab\n",
    "\n",
    "a = ulab.array(range(10), dtype=ulab.uint8)\n",
    "print(a)\n",
    "b = ~a[::2]\n",
    "print(b)"
   ]
  },
  {
   "cell_type": "code",
   "execution_count": 499,
   "metadata": {
    "ExecuteTime": {
     "end_time": "2020-08-13T09:54:25.569894Z",
     "start_time": "2020-08-13T09:54:25.550393Z"
    }
   },
   "outputs": [
    {
     "name": "stdout",
     "output_type": "stream",
     "text": [
      "array([[0, 1, 2, 3],\n",
      "\t[4, 5, 6, 7],\n",
      "\t[8, 9, 10, 11],\n",
      "\t[12, 13, 14, 15],\n",
      "\t[16, 17, 18, 19], dtype=uint8)\n",
      "\n",
      "\n"
     ]
    }
   ],
   "source": [
    "%%micropython -unix 1\n",
    "\n",
    "import ulab as np\n",
    "\n",
    "a = np.array(range(20), dtype=np.uint8)\n",
    "b = a.reshape((5, 4))\n",
    "# a[3:6] = np.array([11, 22, 33])\n",
    "print(b)"
   ]
  },
  {
   "cell_type": "code",
   "execution_count": 519,
   "metadata": {
    "ExecuteTime": {
     "end_time": "2020-08-13T12:48:49.799452Z",
     "start_time": "2020-08-13T12:48:49.775464Z"
    }
   },
   "outputs": [
    {
     "name": "stdout",
     "output_type": "stream",
     "text": [
      "array([0.0, 1.0, 2.0, 3.0, 8.0, 9.0, 10.0, 11.0], dtype=float)\n",
      "\n",
      "\n"
     ]
    }
   ],
   "source": [
    "%%micropython -unix 1\n",
    "\n",
    "import ulab\n",
    "\n",
    "from ulab import fft\n",
    "\n",
    "a = ulab.array(range(16)).reshape((4, 4))\n",
    "print(a[::2].flatten())"
   ]
  },
  {
   "cell_type": "code",
   "execution_count": 516,
   "metadata": {
    "ExecuteTime": {
     "end_time": "2020-08-13T12:34:39.212646Z",
     "start_time": "2020-08-13T12:34:39.199964Z"
    }
   },
   "outputs": [
    {
     "name": "stdout",
     "output_type": "stream",
     "text": [
      "class:  ndarray\n",
      "shape:  (16,)\n",
      "strides:  (8,)\n",
      "itemsize:  8\n",
      "aligned:  True\n",
      "contiguous:  True\n",
      "fortran:  True\n",
      "data pointer: 0x55f24dd530c0\n",
      "byteorder:  little\n",
      "byteswap:  False\n",
      "type: int64\n",
      "class:  ndarray\n",
      "shape:  (16,)\n",
      "strides:  (8,)\n",
      "itemsize:  8\n",
      "aligned:  True\n",
      "contiguous:  True\n",
      "fortran:  True\n",
      "data pointer: 0x55f24e878b00\n",
      "byteorder:  little\n",
      "byteswap:  False\n",
      "type: int64\n"
     ]
    }
   ],
   "source": [
    "a = array(range(16))\n",
    "info(a)\n",
    "b = a.flatten()\n",
    "info(b)"
   ]
  },
  {
   "cell_type": "code",
   "execution_count": 458,
   "metadata": {
    "ExecuteTime": {
     "end_time": "2020-08-11T15:37:26.905788Z",
     "start_time": "2020-08-11T15:37:26.885662Z"
    }
   },
   "outputs": [
    {
     "data": {
      "text/plain": [
       "array([[ 0.,  1.,  2.,  3.],\n",
       "       [ 4.,  5.,  6.,  7.],\n",
       "       [ 8.,  9., 10., 11.],\n",
       "       [12., 13., 14., 15.],\n",
       "       [16., 17., 18., 19.]])"
      ]
     },
     "execution_count": 458,
     "metadata": {},
     "output_type": "execute_result"
    }
   ],
   "source": [
    "a = np.array(range(20), dtype=np.float)\n",
    "b = a.reshape((5,4))\n",
    "b"
   ]
  },
  {
   "cell_type": "code",
   "execution_count": 446,
   "metadata": {
    "ExecuteTime": {
     "end_time": "2020-08-11T12:13:04.090729Z",
     "start_time": "2020-08-11T12:13:04.083531Z"
    }
   },
   "outputs": [
    {
     "data": {
      "text/plain": [
       "array([ 0,  1,  2,  3,  4,  5,  6, 88,  8,  9, 10, 11], dtype=uint8)"
      ]
     },
     "execution_count": 446,
     "metadata": {},
     "output_type": "execute_result"
    }
   ],
   "source": [
    "a = array(range(12), dtype=uint8)\n",
    "a[7] = 344.83\n",
    "a"
   ]
  },
  {
   "cell_type": "code",
   "execution_count": 409,
   "metadata": {
    "ExecuteTime": {
     "end_time": "2020-08-11T07:43:15.984997Z",
     "start_time": "2020-08-11T07:43:15.974149Z"
    }
   },
   "outputs": [
    {
     "data": {
      "text/plain": [
       "(array([[[ 0,  1,  2],\n",
       "         [ 3,  4,  5],\n",
       "         [ 6,  7,  8]],\n",
       " \n",
       "        [[ 9, 10, 11],\n",
       "         [12, 13, 14],\n",
       "         [15, 16, 17]],\n",
       " \n",
       "        [[18, 19, 20],\n",
       "         [21, 22, 23],\n",
       "         [24, 25, 26]]]),\n",
       " array([12, 13, 14]))"
      ]
     },
     "execution_count": 409,
     "metadata": {},
     "output_type": "execute_result"
    }
   ],
   "source": [
    "a = array(range(27)).reshape((3, 3, 3))\n",
    "\n",
    "a, a[1,1]"
   ]
  },
  {
   "cell_type": "code",
   "execution_count": 92,
   "metadata": {
    "ExecuteTime": {
     "end_time": "2020-07-22T17:47:32.181794Z",
     "start_time": "2020-07-22T17:47:32.156988Z"
    }
   },
   "outputs": [
    {
     "name": "stdout",
     "output_type": "stream",
     "text": [
      "7.8\n",
      "\n",
      "\n"
     ]
    }
   ],
   "source": [
    "%%micropython -unix 1\n",
    "\n",
    "import ulab\n",
    "from ulab import user\n",
    "\n",
    "print(user.dummy(3.9))"
   ]
  },
  {
   "cell_type": "code",
   "execution_count": 104,
   "metadata": {
    "ExecuteTime": {
     "end_time": "2020-07-29T16:21:18.352024Z",
     "start_time": "2020-07-29T16:21:18.092501Z"
    }
   },
   "outputs": [
    {
     "ename": "ValueError",
     "evalue": "Number of samples, -100, must be non-negative.",
     "output_type": "error",
     "traceback": [
      "\u001b[0;31m---------------------------------------------------------------------------\u001b[0m",
      "\u001b[0;31mValueError\u001b[0m                                Traceback (most recent call last)",
      "\u001b[0;32m<ipython-input-104-ffd00d15348d>\u001b[0m in \u001b[0;36m<module>\u001b[0;34m\u001b[0m\n\u001b[0;32m----> 1\u001b[0;31m \u001b[0mlinspace\u001b[0m\u001b[0;34m(\u001b[0m\u001b[0;36m0\u001b[0m\u001b[0;34m,\u001b[0m \u001b[0;36m10\u001b[0m\u001b[0;34m,\u001b[0m \u001b[0;34m-\u001b[0m\u001b[0;36m100\u001b[0m\u001b[0;34m)\u001b[0m\u001b[0;34m\u001b[0m\u001b[0;34m\u001b[0m\u001b[0m\n\u001b[0m",
      "\u001b[0;32m<__array_function__ internals>\u001b[0m in \u001b[0;36mlinspace\u001b[0;34m(*args, **kwargs)\u001b[0m\n",
      "\u001b[0;32m~/anaconda3/lib/python3.7/site-packages/numpy/core/function_base.py\u001b[0m in \u001b[0;36mlinspace\u001b[0;34m(start, stop, num, endpoint, retstep, dtype, axis)\u001b[0m\n\u001b[1;32m    122\u001b[0m \u001b[0;34m\u001b[0m\u001b[0m\n\u001b[1;32m    123\u001b[0m     \u001b[0;32mif\u001b[0m \u001b[0mnum\u001b[0m \u001b[0;34m<\u001b[0m \u001b[0;36m0\u001b[0m\u001b[0;34m:\u001b[0m\u001b[0;34m\u001b[0m\u001b[0;34m\u001b[0m\u001b[0m\n\u001b[0;32m--> 124\u001b[0;31m         \u001b[0;32mraise\u001b[0m \u001b[0mValueError\u001b[0m\u001b[0;34m(\u001b[0m\u001b[0;34m\"Number of samples, %s, must be non-negative.\"\u001b[0m \u001b[0;34m%\u001b[0m \u001b[0mnum\u001b[0m\u001b[0;34m)\u001b[0m\u001b[0;34m\u001b[0m\u001b[0;34m\u001b[0m\u001b[0m\n\u001b[0m\u001b[1;32m    125\u001b[0m     \u001b[0mdiv\u001b[0m \u001b[0;34m=\u001b[0m \u001b[0;34m(\u001b[0m\u001b[0mnum\u001b[0m \u001b[0;34m-\u001b[0m \u001b[0;36m1\u001b[0m\u001b[0;34m)\u001b[0m \u001b[0;32mif\u001b[0m \u001b[0mendpoint\u001b[0m \u001b[0;32melse\u001b[0m \u001b[0mnum\u001b[0m\u001b[0;34m\u001b[0m\u001b[0;34m\u001b[0m\u001b[0m\n\u001b[1;32m    126\u001b[0m \u001b[0;34m\u001b[0m\u001b[0m\n",
      "\u001b[0;31mValueError\u001b[0m: Number of samples, -100, must be non-negative."
     ]
    }
   ],
   "source": [
    "linspace(0, 10, -100)"
   ]
  },
  {
   "cell_type": "code",
   "execution_count": null,
   "metadata": {},
   "outputs": [],
   "source": []
  },
  {
   "cell_type": "code",
   "execution_count": 105,
   "metadata": {
    "ExecuteTime": {
     "end_time": "2020-07-29T16:22:10.881296Z",
     "start_time": "2020-07-29T16:22:10.866969Z"
    }
   },
   "outputs": [
    {
     "name": "stdout",
     "output_type": "stream",
     "text": [
      "\n",
      "Traceback (most recent call last):\n",
      "  File \"/dev/shm/micropython.py\", line 5, in <module>\n",
      "ValueError: number of points must be at least 2\n",
      "\n"
     ]
    }
   ],
   "source": [
    "%%micropython -unix 1\n",
    "\n",
    "\n",
    "import ulab as np\n",
    "\n",
    "print(np.linspace(0, 10, -101))\n",
    "print(np.arange(3))\n",
    "print(np.arange(3.0))\n",
    "print(np.arange(3, dtype=np.uint8))\n",
    "print(np.arange(3, 7))\n",
    "print(np.arange(3, 7, 2))\n",
    "print(np.arange(7, 3, -2))\n",
    "print(np.arange(15).reshape((3,5)))"
   ]
  },
  {
   "cell_type": "code",
   "execution_count": 86,
   "metadata": {
    "ExecuteTime": {
     "end_time": "2020-07-22T16:28:31.760535Z",
     "start_time": "2020-07-22T16:28:31.749053Z"
    }
   },
   "outputs": [
    {
     "data": {
      "text/plain": [
       "array([20, 18, 16, 14, 12])"
      ]
     },
     "execution_count": 86,
     "metadata": {},
     "output_type": "execute_result"
    }
   ],
   "source": [
    "arange(20, 10, -2)"
   ]
  },
  {
   "cell_type": "code",
   "execution_count": 46,
   "metadata": {
    "ExecuteTime": {
     "end_time": "2020-06-29T19:03:43.536932Z",
     "start_time": "2020-06-29T19:03:43.520890Z"
    }
   },
   "outputs": [
    {
     "data": {
      "text/plain": [
       "98"
      ]
     },
     "execution_count": 46,
     "metadata": {},
     "output_type": "execute_result"
    }
   ],
   "source": [
    "ord('b')"
   ]
  },
  {
   "cell_type": "code",
   "execution_count": 15,
   "metadata": {
    "ExecuteTime": {
     "end_time": "2020-06-29T06:04:25.363655Z",
     "start_time": "2020-06-29T06:04:25.356295Z"
    }
   },
   "outputs": [
    {
     "name": "stdout",
     "output_type": "stream",
     "text": [
      "-2 6 0 4\n",
      "1 8 2 4\n"
     ]
    }
   ],
   "source": [
    "a = array([-2, 4, 2, -1, 6, 1, 0, -1], dtype=np.int8)\n",
    "b = array([5, 7, 1, 4, 8], dtype=uint8)\n",
    "\n",
    "\n",
    "print(min(a), max(a), argmin(a), argmax(a))\n",
    "print(min(b), max(b), argmin(b), argmax(b))"
   ]
  },
  {
   "cell_type": "code",
   "execution_count": 24,
   "metadata": {
    "ExecuteTime": {
     "end_time": "2020-06-01T06:41:00.831543Z",
     "start_time": "2020-06-01T06:41:00.810461Z"
    }
   },
   "outputs": [
    {
     "name": "stdout",
     "output_type": "stream",
     "text": [
      "array([0, 12345, 23456, -20000, -30000, 0], dtype=int16)\n",
      "-30000\n",
      "\n",
      "\n"
     ]
    }
   ],
   "source": [
    "%%micropython -unix 1\n",
    "\n",
    "import ulab\n",
    "from ulab import numerical\n",
    "someint16s = ulab.array([0, 12345, 23456, -20_000, -30_000, 0], dtype=ulab.int16)\n",
    "someuint16s = ulab.array([0, 12345, 23456, 40000, 30_000, 0], dtype=ulab.uint16)\n",
    "print(someint16s)\n",
    "print(numerical.min(someint16s))"
   ]
  },
  {
   "cell_type": "code",
   "execution_count": 27,
   "metadata": {
    "ExecuteTime": {
     "end_time": "2020-05-03T08:39:48.985561Z",
     "start_time": "2020-05-03T08:39:48.974272Z"
    }
   },
   "outputs": [
    {
     "name": "stdout",
     "output_type": "stream",
     "text": [
      "[True, False, False, False, False, False, False, False, False, False]\n",
      "[True, False, False, False, False, False, False, False, False, False]\n",
      "[False, True, True, True, True, True, True, True, True, True]\n",
      "\n",
      "\n"
     ]
    }
   ],
   "source": [
    "%%micropython -unix 1\n",
    "\n",
    "import ulab\n",
    "\n",
    "a = ulab.array(range(10))\n",
    "b = ulab.zeros(10)\n",
    "print(a == b)\n",
    "print(ulab.compare.equal(a, b))\n",
    "print(ulab.compare.not_equal(a, b))"
   ]
  },
  {
   "cell_type": "code",
   "execution_count": 24,
   "metadata": {
    "ExecuteTime": {
     "end_time": "2020-05-01T09:24:50.942076Z",
     "start_time": "2020-05-01T09:24:50.930923Z"
    }
   },
   "outputs": [
    {
     "name": "stdout",
     "output_type": "stream",
     "text": [
      "array([0.0, 1.0, 2.0, ..., 7.0, 8.0, 9.0], dtype=float)\n",
      "\n",
      " array([[1.0, 0.0, 0.0, ..., 0.0, 0.0, 0.0],\n",
      "\t [0.0, 1.0, 0.0, ..., 0.0, 0.0, 0.0],\n",
      "\t [0.0, 0.0, 1.0, ..., 0.0, 0.0, 0.0],\n",
      "\t [0.0, 0.0, 0.0, ..., 0.0, 0.0, 0.0],\n",
      "\t [0.0, 0.0, 0.0, ..., 0.0, 0.0, 0.0],\n",
      "\t [0.0, 0.0, 0.0, ..., 0.0, 0.0, 0.0],\n",
      "\t [0.0, 0.0, 0.0, ..., 0.0, 0.0, 0.0],\n",
      "\t [0.0, 0.0, 0.0, ..., 1.0, 0.0, 0.0],\n",
      "\t [0.0, 0.0, 0.0, ..., 0.0, 1.0, 0.0],\n",
      "\t [0.0, 0.0, 0.0, ..., 0.0, 0.0, 1.0]], dtype=float)\n",
      "\n",
      " array([1.0, 2.0], dtype=float)\n",
      "{'threshold': 5, 'edgeitems': 3}\n",
      "\n",
      "\n"
     ]
    }
   ],
   "source": [
    "%%micropython -unix 1\n",
    "\n",
    "import ulab\n",
    "\n",
    "ulab.set_printoptions(threshold=5)\n",
    "a = ulab.array(range(10))\n",
    "print(a)\n",
    "\n",
    "b = ulab.eye(10)\n",
    "print('\\n', b)\n",
    "\n",
    "c = ulab.array([1, 2])\n",
    "print('\\n', c)\n",
    "print(ulab.get_printoptions())"
   ]
  },
  {
   "cell_type": "markdown",
   "metadata": {},
   "source": [
    "### pyboard initialisation"
   ]
  },
  {
   "cell_type": "code",
   "execution_count": 65,
   "metadata": {
    "ExecuteTime": {
     "end_time": "2020-05-03T09:48:17.404492Z",
     "start_time": "2020-05-03T09:48:17.378016Z"
    }
   },
   "outputs": [],
   "source": [
    "import pyboard\n",
    "pyb = pyboard.Pyboard('/dev/ttyACM1')\n",
    "pyb.enter_raw_repl()"
   ]
  },
  {
   "cell_type": "markdown",
   "metadata": {},
   "source": [
    "### pyboad detach"
   ]
  },
  {
   "cell_type": "code",
   "execution_count": 69,
   "metadata": {
    "ExecuteTime": {
     "end_time": "2020-05-03T09:48:56.935807Z",
     "start_time": "2020-05-03T09:48:56.928791Z"
    }
   },
   "outputs": [],
   "source": [
    "pyb.exit_raw_repl()\n",
    "pyb.close()"
   ]
  },
  {
   "cell_type": "code",
   "execution_count": 67,
   "metadata": {
    "ExecuteTime": {
     "end_time": "2020-05-03T09:48:37.021742Z",
     "start_time": "2020-05-03T09:48:36.986052Z"
    }
   },
   "outputs": [
    {
     "name": "stdout",
     "output_type": "stream",
     "text": [
      "\n"
     ]
    }
   ],
   "source": [
    "%%micropython\n",
    "\n",
    "import utime\n",
    "import math\n",
    "import ulab\n",
    "\n",
    "def timeit(f, *args, **kwargs):\n",
    "    func_name = str(f).split(' ')[1]\n",
    "    def new_func(*args, **kwargs):\n",
    "        t = utime.ticks_us()\n",
    "        result = f(*args, **kwargs)\n",
    "        print('execution time: ', utime.ticks_diff(utime.ticks_us(), t), ' us')\n",
    "        return result\n",
    "    return new_func"
   ]
  },
  {
   "cell_type": "markdown",
   "metadata": {},
   "source": [
    "# unix port"
   ]
  },
  {
   "cell_type": "code",
   "execution_count": 9,
   "metadata": {
    "ExecuteTime": {
     "end_time": "2020-02-18T05:59:21.721837Z",
     "start_time": "2020-02-18T05:59:21.716390Z"
    }
   },
   "outputs": [
    {
     "name": "stdout",
     "output_type": "stream",
     "text": [
      "/home/v923z/sandbox/micropython/v1.11/micropython/ports/unix\n"
     ]
    }
   ],
   "source": [
    "%cd ../../../micropython/ports/unix/"
   ]
  },
  {
   "cell_type": "code",
   "execution_count": 91,
   "metadata": {
    "ExecuteTime": {
     "end_time": "2020-02-28T15:26:47.780186Z",
     "start_time": "2020-02-28T15:26:47.507258Z"
    }
   },
   "outputs": [
    {
     "name": "stdout",
     "output_type": "stream",
     "text": [
      "Use make V=1 or set BUILD_VERBOSE in your environment to increase build verbosity.\n",
      "rm -f micropython\n",
      "rm -f micropython.map\n",
      "rm -rf build-standard \n"
     ]
    }
   ],
   "source": [
    "!make clean"
   ]
  },
  {
   "cell_type": "code",
   "execution_count": 137,
   "metadata": {
    "ExecuteTime": {
     "end_time": "2020-02-28T18:23:05.700858Z",
     "start_time": "2020-02-28T18:23:04.630093Z"
    },
    "scrolled": true
   },
   "outputs": [
    {
     "name": "stdout",
     "output_type": "stream",
     "text": [
      "Use make V=1 or set BUILD_VERBOSE in your environment to increase build verbosity.\n",
      "Including User C Module from ../../../ulab/code\n",
      "GEN build-standard/genhdr/moduledefs.h\n",
      "GEN build-standard/genhdr/qstr.i.last\n",
      "GEN build-standard/genhdr/qstr.split\n",
      "GEN build-standard/genhdr/qstrdefs.collected.h\n",
      "QSTR not updated\n",
      "CC ../../py/objmodule.c\n",
      "CC ../../../ulab/code/ndarray.c\n",
      "LINK micropython\n",
      "   text\t   data\t    bss\t    dec\t    hex\tfilename\n",
      " 461741\t  56992\t   2120\t 520853\t  7f295\tmicropython\n"
     ]
    }
   ],
   "source": [
    "!make USER_C_MODULES=../../../ulab all"
   ]
  },
  {
   "cell_type": "code",
   "execution_count": 184,
   "metadata": {
    "ExecuteTime": {
     "end_time": "2020-03-03T08:39:13.022114Z",
     "start_time": "2020-03-03T08:39:12.934175Z"
    }
   },
   "outputs": [
    {
     "name": "stdout",
     "output_type": "stream",
     "text": [
      "[[ 0  1  2  3]\n",
      " [ 4  5  6  7]\n",
      " [ 8  9 10 11]\n",
      " [12 13 14 15]]\n",
      "[]\n",
      "class:  ndarray\n",
      "shape:  (0,)\n",
      "strides:  (8,)\n",
      "itemsize:  8\n",
      "aligned:  True\n",
      "contiguous:  True\n",
      "fortran:  True\n",
      "data pointer: 0x5609e06d6480\n",
      "byteorder:  little\n",
      "byteswap:  False\n",
      "type: int64\n"
     ]
    },
    {
     "data": {
      "text/plain": [
       "((0,), dtype('int64'), None)"
      ]
     },
     "execution_count": 184,
     "metadata": {},
     "output_type": "execute_result"
    }
   ],
   "source": [
    "a = array(range(16))\n",
    "b = a.reshape((4,4))\n",
    "print(b)\n",
    "c = b[2, 1:1]\n",
    "print(c)\n",
    "c.shape, c.dtype, info(c)"
   ]
  },
  {
   "cell_type": "code",
   "execution_count": 207,
   "metadata": {
    "ExecuteTime": {
     "end_time": "2020-03-03T09:36:10.325289Z",
     "start_time": "2020-03-03T09:36:10.290504Z"
    }
   },
   "outputs": [
    {
     "ename": "IndexError",
     "evalue": "too many indices for array",
     "output_type": "error",
     "traceback": [
      "\u001b[0;31m---------------------------------------------------------------------------\u001b[0m",
      "\u001b[0;31mIndexError\u001b[0m                                Traceback (most recent call last)",
      "\u001b[0;32m<ipython-input-207-3f875e2e2d3c>\u001b[0m in \u001b[0;36m<module>\u001b[0;34m\u001b[0m\n\u001b[1;32m      1\u001b[0m \u001b[0ma\u001b[0m \u001b[0;34m=\u001b[0m \u001b[0marray\u001b[0m\u001b[0;34m(\u001b[0m\u001b[0mrange\u001b[0m\u001b[0;34m(\u001b[0m\u001b[0;36m10\u001b[0m\u001b[0;34m)\u001b[0m\u001b[0;34m)\u001b[0m\u001b[0;34m\u001b[0m\u001b[0;34m\u001b[0m\u001b[0m\n\u001b[0;32m----> 2\u001b[0;31m \u001b[0ma\u001b[0m\u001b[0;34m[\u001b[0m\u001b[0;36m1\u001b[0m\u001b[0;34m:\u001b[0m\u001b[0;36m5\u001b[0m\u001b[0;34m,\u001b[0m \u001b[0;36m2\u001b[0m\u001b[0;34m]\u001b[0m\u001b[0;34m\u001b[0m\u001b[0;34m\u001b[0m\u001b[0m\n\u001b[0m",
      "\u001b[0;31mIndexError\u001b[0m: too many indices for array"
     ]
    }
   ],
   "source": [
    "a = array(range(10))\n",
    "a[1:5, 2]"
   ]
  },
  {
   "cell_type": "code",
   "execution_count": 228,
   "metadata": {
    "ExecuteTime": {
     "end_time": "2020-03-03T10:11:00.753528Z",
     "start_time": "2020-03-03T10:11:00.739038Z"
    }
   },
   "outputs": [
    {
     "name": "stdout",
     "output_type": "stream",
     "text": [
      "0.0\n",
      "1.0\n",
      "2.0\n",
      "3.0\n",
      "4.0\n",
      "5.0\n",
      "6.0\n",
      "7.0\n",
      "8.0\n",
      "1.0\n",
      "(3, 3)\n",
      "[[0. 1. 2.]\n",
      " [3. 4. 5.]\n",
      " [6. 7. 8.]]\n",
      "[0. 1. 2.]\n",
      "[3. 4. 5.]\n",
      "[6. 7. 8.]\n",
      "[[3. 4. 5.]\n",
      " [6. 7. 8.]]\n"
     ]
    }
   ],
   "source": [
    "a = array(range(9), dtype=float)\n",
    "for _a in a:\n",
    "    print(_a)\n",
    "print(a[1])\n",
    "b = a.reshape((3, 3))\n",
    "print(b.shape)\n",
    "print(b)\n",
    "for row in b:\n",
    "    print(row)\n",
    "    \n",
    "print(b[1:5])"
   ]
  },
  {
   "cell_type": "code",
   "execution_count": 109,
   "metadata": {
    "ExecuteTime": {
     "end_time": "2020-03-31T19:36:13.798989Z",
     "start_time": "2020-03-31T19:36:13.790027Z"
    }
   },
   "outputs": [
    {
     "name": "stdout",
     "output_type": "stream",
     "text": [
      "array([1, 2, 3, ..., 8, 9, 10], dtype=int16) array([1, 2, 3, ..., 8, 9, 10], dtype=int16)\n",
      "array([0, 2, 4, ..., 14, 16, 18], dtype=int16) array([0, 2, 4, ..., 14, 16, 18], dtype=int16)\n",
      "array([1, 2, 4, ..., 128, 256, 512], dtype=int16) array([0, 1, 4, ..., 49, 64, 81], dtype=int16)\n",
      "array([-1, 0, 1, ..., 6, 7, 8], dtype=int16) array([1, 0, -1, ..., -6, -7, -8], dtype=int16)\n",
      "array([0.0, 0.5, 1.0, ..., 3.5, 4.0, 4.5], dtype=float) array([inf, 2.0, 1.0, ..., 0.2857142857142857, 0.25, 0.2222222222222222], dtype=float)\n",
      "[False, False, False, True, True, True, True, True, True, True]\n",
      "\n",
      "\n"
     ]
    }
   ],
   "source": [
    "%%micropython -unix 1\n",
    "\n",
    "import ulab\n",
    "a = ulab.array(range(10), dtype=ulab.int8)\n",
    "print(1+a, a+1)\n",
    "print(2*a, a*2)\n",
    "print(2**a, a**2)\n",
    "print(a-1, 1-a)\n",
    "print(a/2, 2/a)\n",
    "print(a > 2)"
   ]
  },
  {
   "cell_type": "code",
   "execution_count": 138,
   "metadata": {
    "ExecuteTime": {
     "end_time": "2020-03-31T20:56:41.261904Z",
     "start_time": "2020-03-31T20:56:39.396314Z"
    }
   },
   "outputs": [
    {
     "ename": "ValueError",
     "evalue": "operands could not be broadcast together with shapes (0,) (4,) ",
     "output_type": "error",
     "traceback": [
      "\u001b[0;31m---------------------------------------------------------------------------\u001b[0m",
      "\u001b[0;31mValueError\u001b[0m                                Traceback (most recent call last)",
      "\u001b[0;32m<ipython-input-138-d6581f0c0f31>\u001b[0m in \u001b[0;36m<module>\u001b[0;34m\u001b[0m\n\u001b[0;32m----> 1\u001b[0;31m \u001b[0mones\u001b[0m\u001b[0;34m(\u001b[0m\u001b[0;36m0\u001b[0m\u001b[0;34m,\u001b[0m \u001b[0mdtype\u001b[0m\u001b[0;34m=\u001b[0m\u001b[0muint8\u001b[0m\u001b[0;34m)\u001b[0m \u001b[0;34m+\u001b[0m \u001b[0mones\u001b[0m\u001b[0;34m(\u001b[0m\u001b[0;36m4\u001b[0m\u001b[0;34m,\u001b[0m \u001b[0mdtype\u001b[0m\u001b[0;34m=\u001b[0m\u001b[0mint8\u001b[0m\u001b[0;34m)\u001b[0m\u001b[0;34m\u001b[0m\u001b[0;34m\u001b[0m\u001b[0m\n\u001b[0m",
      "\u001b[0;31mValueError\u001b[0m: operands could not be broadcast together with shapes (0,) (4,) "
     ]
    }
   ],
   "source": [
    "ones(0, dtype=uint8) + ones(4, dtype=int8)"
   ]
  },
  {
   "cell_type": "code",
   "execution_count": 14,
   "metadata": {
    "ExecuteTime": {
     "end_time": "2020-04-01T20:52:56.352001Z",
     "start_time": "2020-04-01T20:52:56.329771Z"
    }
   },
   "outputs": [
    {
     "name": "stdout",
     "output_type": "stream",
     "text": [
      "49\n",
      "\n",
      "\n"
     ]
    }
   ],
   "source": [
    "%%micropython -unix 1\n",
    "\n",
    "import ulab\n",
    "from ulab import numerical\n",
    "\n",
    "x = ulab.linspace(0, 10)\n",
    "print(numerical.argmax(x))"
   ]
  },
  {
   "cell_type": "code",
   "execution_count": 128,
   "metadata": {
    "ExecuteTime": {
     "end_time": "2020-03-31T20:39:49.386101Z",
     "start_time": "2020-03-31T20:39:49.366460Z"
    }
   },
   "outputs": [
    {
     "name": "stdout",
     "output_type": "stream",
     "text": [
      "True\n",
      "\n",
      "\n"
     ]
    }
   ],
   "source": [
    "%%micropython -unix 1\n",
    "\n",
    "import ulab\n",
    "\n",
    "a = ulab.array([1,2, 3])\n",
    "b = ulab.array([1,2, 3])\n",
    "print(a == a)"
   ]
  },
  {
   "cell_type": "code",
   "execution_count": 223,
   "metadata": {
    "ExecuteTime": {
     "end_time": "2020-03-03T10:00:16.955974Z",
     "start_time": "2020-03-03T10:00:16.932468Z"
    }
   },
   "outputs": [
    {
     "name": "stdout",
     "output_type": "stream",
     "text": [
      "0.33.3-static-ndim\n",
      "(3, 3)\n",
      "[[0 1 2]\n",
      "3 4 5]\n",
      "6 7 8]]\n",
      "[0 1 2]\n",
      "[3 4 5]\n",
      "[6 7 8]\n",
      "[[3 4 5]\n",
      "6 7 8]]\n",
      "\n",
      "\n"
     ]
    }
   ],
   "source": [
    "%%micropython -unix 1\n",
    "\n",
    "import ulab\n",
    "print(ulab.__version__)\n",
    "a = ulab.array(range(9), dtype=ulab.uint8)\n",
    "# print(a, a.shape(), a.ndim())\n",
    "# for _a in a:\n",
    "#     print(_a)\n",
    "b = a.reshape((3, 3))\n",
    "print(b.shape())\n",
    "print(b)\n",
    "for row in b:\n",
    "    print(row)\n",
    "    \n",
    "print(b[1:5])"
   ]
  },
  {
   "cell_type": "code",
   "execution_count": 250,
   "metadata": {
    "ExecuteTime": {
     "end_time": "2020-03-03T14:05:54.542299Z",
     "start_time": "2020-03-03T14:05:54.521879Z"
    }
   },
   "outputs": [
    {
     "name": "stdout",
     "output_type": "stream",
     "text": [
      "[[4 5]\n",
      " [6 7]]\n",
      "====================\n",
      "[[[ 0  1]\n",
      "  [ 2  3]]\n",
      "\n",
      " [[14 16]\n",
      "  [14 16]]]\n"
     ]
    }
   ],
   "source": [
    "a = array(range(8))\n",
    "b = a.reshape((2, 2, 2))\n",
    "print(b[1])\n",
    "print('='*20)\n",
    "b[1] = array([14.0, 16.0])\n",
    "print(b)"
   ]
  },
  {
   "cell_type": "code",
   "execution_count": 319,
   "metadata": {
    "ExecuteTime": {
     "end_time": "2020-03-03T17:09:49.890785Z",
     "start_time": "2020-03-03T17:09:49.866365Z"
    }
   },
   "outputs": [
    {
     "name": "stdout",
     "output_type": "stream",
     "text": [
      "[[1.0 2.0]\n",
      "[3.0 4.0]]\n",
      "\n",
      "\n"
     ]
    }
   ],
   "source": [
    "%%micropython -unix 1\n",
    "\n",
    "import ulab\n",
    "\n",
    "a = ulab.array([[1, 2], [3, 4]], dtype=ulab.float)\n",
    "print(a)"
   ]
  },
  {
   "cell_type": "code",
   "execution_count": 371,
   "metadata": {
    "ExecuteTime": {
     "end_time": "2020-03-03T18:08:29.051440Z",
     "start_time": "2020-03-03T18:08:29.023339Z"
    }
   },
   "outputs": [
    {
     "name": "stdout",
     "output_type": "stream",
     "text": [
      "[0.0 1.0 2.0 3.0 4.0 5.0 6.0 7.0]\n",
      "0.0\n",
      "1.0\n",
      "2.0\n",
      "3.0\n",
      "4.0\n",
      "5.0\n",
      "6.0\n",
      "7.0\n",
      "(8,)\n",
      "[[4.0 5.0]\n",
      "[6.0 7.0]]\n",
      "====================\n",
      "c [[0.0 1.0]\n",
      "[2.0 3.0]]\n",
      "====================\n",
      "b [[22.0 22.0]\n",
      "[22.0 22.0]]\n",
      "\n",
      "\n"
     ]
    }
   ],
   "source": [
    "%%micropython -unix 1\n",
    "\n",
    "import ulab\n",
    "\n",
    "a = ulab.array(range(8), dtype=ulab.float)\n",
    "print(a)\n",
    "for i in a:\n",
    "    print(i)\n",
    "b = a.reshape((2, 2, 2))\n",
    "print(a.shape())\n",
    "# print(b.shape(), b.ndim())\n",
    "print(b[1])\n",
    "print('='*20)\n",
    "c = ulab.array(range(4)).reshape((2, 2))\n",
    "print('c', c)\n",
    "print('='*20)\n",
    "b[1] = 22.0\n",
    "print('b', b[1])"
   ]
  },
  {
   "cell_type": "code",
   "execution_count": 408,
   "metadata": {
    "ExecuteTime": {
     "end_time": "2020-03-03T20:29:34.267542Z",
     "start_time": "2020-03-03T20:29:34.245232Z"
    }
   },
   "outputs": [
    {
     "name": "stdout",
     "output_type": "stream",
     "text": [
      "(8,) (16,) 1\n",
      "[1.0 0.5403023058681398 -0.4161468365471424 -0.9899924966004454 -0.6536436208636119]\n",
      "\n",
      "\n"
     ]
    }
   ],
   "source": [
    "%%micropython -unix 1\n",
    "\n",
    "from math import pi\n",
    "import ulab\n",
    "from ulab import vector\n",
    "\n",
    "a = ulab.linspace(0, 10, num=21)\n",
    "b = a[:10:2]\n",
    "print(a.strides(), b.strides(), b.ndim())\n",
    "print(vector.cos(a[:10:2]))"
   ]
  },
  {
   "cell_type": "code",
   "execution_count": 403,
   "metadata": {
    "ExecuteTime": {
     "end_time": "2020-03-03T20:25:49.702839Z",
     "start_time": "2020-03-03T20:25:49.687486Z"
    }
   },
   "outputs": [
    {
     "data": {
      "text/plain": [
       "array([ 1.        ,  0.54030231, -0.41614684, -0.9899925 , -0.65364362])"
      ]
     },
     "execution_count": 403,
     "metadata": {},
     "output_type": "execute_result"
    }
   ],
   "source": [
    "cos(linspace(0, 10, num=21)[:10:2])"
   ]
  },
  {
   "cell_type": "code",
   "execution_count": 49,
   "metadata": {
    "ExecuteTime": {
     "end_time": "2020-02-25T06:30:12.464996Z",
     "start_time": "2020-02-25T06:30:12.449275Z"
    }
   },
   "outputs": [
    {
     "name": "stdout",
     "output_type": "stream",
     "text": [
      "[[[ 0  1  2]\n",
      "  [ 3  4  5]\n",
      "  [ 6  7  8]]\n",
      "\n",
      " [[ 9 10 11]\n",
      "  [12 13 14]\n",
      "  [15 16 17]]\n",
      "\n",
      " [[18 19 20]\n",
      "  [21 22 23]\n",
      "  [24 25 26]]]\n",
      "\n",
      "============\n",
      "b[1]\n",
      " [[[ 0  1  2]\n",
      "  [ 3  4  5]]\n",
      "\n",
      " [[ 9 10 11]\n",
      "  [12 13 14]]\n",
      "\n",
      " [[18 19 20]\n",
      "  [21 22 23]]]\n",
      "(3, 2, 3)\n"
     ]
    }
   ],
   "source": [
    "a = array(range(27), dtype=uint8)\n",
    "b = a.reshape((3, 3, 3))\n",
    "print(b)\n",
    "a = b[:,0:2,:]\n",
    "print('\\n============\\nb[1]\\n', a)\n",
    "print(a.shape)"
   ]
  },
  {
   "cell_type": "code",
   "execution_count": 243,
   "metadata": {
    "ExecuteTime": {
     "end_time": "2020-02-20T05:58:54.641207Z",
     "start_time": "2020-02-20T05:58:54.629414Z"
    }
   },
   "outputs": [
    {
     "name": "stdout",
     "output_type": "stream",
     "text": [
      "array([[[255, 254],\n",
      "[253, 252]],\n",
      "\n",
      "[[251, 250],\n",
      "[249, 248]]], dtype=uint8)\n",
      "abs array([[[0, 1],\n",
      "[2, 3]],\n",
      "\n",
      "[[4, 5],\n",
      "[6, 7]]], dtype=uint8)\n",
      "array([[0, 1],\n",
      "[2, 3]], dtype=uint8)\n",
      "array([[4, 5],\n",
      "[6, 7]], dtype=uint8)\n",
      "\n",
      "\n"
     ]
    }
   ],
   "source": [
    "%%micropython -unix 1\n",
    "\n",
    "import ulab\n",
    "from ulab import vector\n",
    "\n",
    "a = ulab.array(range(8), dtype=ulab.uint8)\n",
    "b = a.reshape((2, 2, 2))\n",
    "print(~b)\n",
    "# b = ulab.array([-2, -1, 0, 1, 2], dtype=ulab.int8)\n",
    "print('abs', abs(b))\n",
    "for _b in b: print(_b)"
   ]
  },
  {
   "cell_type": "code",
   "execution_count": 8,
   "metadata": {
    "ExecuteTime": {
     "end_time": "2020-03-09T05:57:53.647234Z",
     "start_time": "2020-03-09T05:57:53.622839Z"
    }
   },
   "outputs": [
    {
     "name": "stdout",
     "output_type": "stream",
     "text": [
      "array([[5.0, 5.0, 5.0, 5.0, 5.0, 5.0]\n",
      "[5.0, 5.0, 0.0, 0.0, 0.0, 0.0]\n",
      "[0.0, 0.0, 0.0, 0.0, 5.0, 5.0]\n",
      "[5.0, 5.0, 5.0, 5.0, 5.0, 5.0]], dtype=float)\n",
      "\n",
      "\n"
     ]
    }
   ],
   "source": [
    "%%micropython -unix 1\n",
    "\n",
    "import ulab\n",
    "from ulab import numerical\n",
    "\n",
    "a = ulab.array(range(30)).reshape((5, 6))\n",
    "print(numerical.diff(a, axis=0))"
   ]
  },
  {
   "cell_type": "code",
   "execution_count": 23,
   "metadata": {
    "ExecuteTime": {
     "end_time": "2020-03-09T06:11:21.381500Z",
     "start_time": "2020-03-09T06:11:21.359197Z"
    }
   },
   "outputs": [
    {
     "data": {
      "text/plain": [
       "array([1., 2., 3., 1., 2., 3., 1., 3., 3.])"
      ]
     },
     "execution_count": 23,
     "metadata": {},
     "output_type": "execute_result"
    }
   ],
   "source": [
    "a = array((1, 2, 3), dtype=uint8)\n",
    "b = array((1, 2, 3), dtype=float)\n",
    "concatenate([a, b, (1, 3, 3)])"
   ]
  },
  {
   "cell_type": "code",
   "execution_count": 21,
   "metadata": {
    "ExecuteTime": {
     "end_time": "2020-03-09T06:09:27.099708Z",
     "start_time": "2020-03-09T06:09:27.082190Z"
    }
   },
   "outputs": [
    {
     "data": {
      "text/plain": [
       "[array([[0, 1, 2]]), array([[3, 4, 5]]), array([[6, 7, 8]])]"
      ]
     },
     "execution_count": 21,
     "metadata": {},
     "output_type": "execute_result"
    }
   ],
   "source": [
    "a = array(range(9)).reshape((3,3))\n",
    "split(a, 3)"
   ]
  },
  {
   "cell_type": "code",
   "execution_count": null,
   "metadata": {},
   "outputs": [],
   "source": []
  },
  {
   "cell_type": "code",
   "execution_count": 18,
   "metadata": {
    "ExecuteTime": {
     "end_time": "2020-04-03T10:06:32.707356Z",
     "start_time": "2020-04-03T10:06:32.681844Z"
    }
   },
   "outputs": [
    {
     "name": "stdout",
     "output_type": "stream",
     "text": [
      "array([[18.0, 22.0, 54.0, 42.0],\n",
      "\t [22.0, 70.0, 86.0, 62.0],\n",
      "\t [54.0, 86.0, 174.0, 134.0],\n",
      "\t [42.0, 62.0, 134.0, 106.0]], dtype=float)\n",
      "array([[4.242640687119285, 0.0, 0.0, 0.0],\n",
      "\t [5.185449728701349, 6.565905201197403, 0.0, 0.0],\n",
      "\t [12.72792206135786, 3.046038495400855, 1.649742247909068, 0.0],\n",
      "\t [9.899494936611665, 1.624553864213789, 1.849711005231386, 1.392621247645583]], dtype=float)\n",
      "4096.000000000027\n",
      "float368.0\n",
      "\n",
      "\n"
     ]
    }
   ],
   "source": [
    "%%micropython -unix 1\n",
    "\n",
    "import ulab\n",
    "from ulab import linalg\n",
    "\n",
    "a = ulab.array([[1, 2, 3], [2, 1, 2], [3, 2, 1]])\n",
    "a = ulab.array([[1, 2], [2, 5]])\n",
    "a = ulab.array([[25, 15, -5], [15, 18,  0], [-5,  0, 1]])\n",
    "a = ulab.array([[18, 22,  54,  42], [22, 70,  86,  62], [54, 86, 174, 134], [42, 62, 134, 106]], dtype=ulab.float)\n",
    "print(a)\n",
    "print(linalg.cholesky(a))\n",
    "print(linalg.det(a))\n",
    "print(linalg.trace(a))"
   ]
  },
  {
   "cell_type": "code",
   "execution_count": 14,
   "metadata": {
    "ExecuteTime": {
     "end_time": "2020-04-03T10:04:13.774564Z",
     "start_time": "2020-04-03T10:04:13.730363Z"
    }
   },
   "outputs": [
    {
     "name": "stdout",
     "output_type": "stream",
     "text": [
      "[[ 4.24264069  0.          0.          0.        ]\n",
      " [ 5.18544973  6.5659052   0.          0.        ]\n",
      " [12.72792206  3.0460385   1.64974225  0.        ]\n",
      " [ 9.89949494  1.62455386  1.84971101  1.39262125]]\n",
      "[[ 18  22  54  42]\n",
      " [ 22  70  86  62]\n",
      " [ 54  86 174 134]\n",
      " [ 42  62 134 106]]\n",
      "<class 'numpy.uint64'>\n"
     ]
    }
   ],
   "source": [
    "a = array([[1, 2], [2, 5]])\n",
    "# a = array([[1, 2, 3], [2, 1, 2], [3, 2, 1]])\n",
    "a = array([[25, 15, -5], [15, 18,  0], [-5,  0, 11]])\n",
    "a = array([[18, 22,  54,  42], [22, 70,  86,  62], [54, 86, 174, 134], [42, 62, 134, 106]], dtype=uint8)\n",
    "print(cholesky(a))\n",
    "print(a)\n",
    "type(a)\n",
    "print(type(trace(a)))"
   ]
  },
  {
   "cell_type": "code",
   "execution_count": 187,
   "metadata": {
    "ExecuteTime": {
     "end_time": "2020-03-11T06:16:08.753005Z",
     "start_time": "2020-03-11T06:16:08.526343Z"
    }
   },
   "outputs": [
    {
     "name": "stdout",
     "output_type": "stream",
     "text": [
      "[ 1.00000000e+00 -2.58458481e-01 -2.00846902e-15]\n"
     ]
    },
    {
     "data": {
      "image/png": "[encoded data removed]",
      "text/plain": [
       "<Figure size 432x288 with 1 Axes>"
      ]
     },
     "metadata": {
      "needs_background": "light"
     },
     "output_type": "display_data"
    }
   ],
   "source": [
    "x = linspace(-5, 5, num=11)\n",
    "y = x*x + sin(x)*3.0\n",
    "plot(x, y)\n",
    "plot(x, x*x)\n",
    "p = polyfit(x, y, 2)\n",
    "print(p)"
   ]
  },
  {
   "cell_type": "code",
   "execution_count": 182,
   "metadata": {
    "ExecuteTime": {
     "end_time": "2020-03-11T06:14:38.910825Z",
     "start_time": "2020-03-11T06:14:38.752861Z"
    }
   },
   "outputs": [
    {
     "name": "stdout",
     "output_type": "stream",
     "text": [
      "[ 9.13847173e-01 -6.69489674e-17]\n"
     ]
    },
    {
     "data": {
      "image/png": "[encoded data removed]",
      "text/plain": [
       "<Figure size 432x288 with 1 Axes>"
      ]
     },
     "metadata": {
      "needs_background": "light"
     },
     "output_type": "display_data"
    }
   ],
   "source": [
    "x = linspace(-5, 5, num=11)\n",
    "y = x + sin(x)\n",
    "plot(x, y)\n",
    "p = polyfit(x, y, 1)\n",
    "print(p)"
   ]
  },
  {
   "cell_type": "code",
   "execution_count": 202,
   "metadata": {
    "ExecuteTime": {
     "end_time": "2020-03-11T06:22:40.840070Z",
     "start_time": "2020-03-11T06:22:40.700776Z"
    }
   },
   "outputs": [
    {
     "name": "stdout",
     "output_type": "stream",
     "text": [
      "[ 7.66798803e-01  3.21154385e-16  3.28945303e+00 -8.09089509e-16]\n"
     ]
    },
    {
     "data": {
      "image/png": "[encoded data removed]",
      "text/plain": [
       "<Figure size 432x288 with 1 Axes>"
      ]
     },
     "metadata": {
      "needs_background": "light"
     },
     "output_type": "display_data"
    }
   ],
   "source": [
    "x = linspace(-5, 5, num=11)\n",
    "y = x*x*x + sin(x)*10.\n",
    "plot(x, y)\n",
    "p = polyfit(x, y, 3)\n",
    "print(p)"
   ]
  },
  {
   "cell_type": "code",
   "execution_count": 188,
   "metadata": {
    "ExecuteTime": {
     "end_time": "2020-03-11T06:16:18.251782Z",
     "start_time": "2020-03-11T06:16:18.221268Z"
    },
    "scrolled": true
   },
   "outputs": [
    {
     "name": "stdout",
     "output_type": "stream",
     "text": [
      "array([1.0, -0.2584584813768293, 3.552713678800501e-15], dtype=float)\n",
      "\n",
      "\n"
     ]
    }
   ],
   "source": [
    "%%micropython -unix 1\n",
    "\n",
    "import ulab\n",
    "from ulab import poly\n",
    "from ulab import vector\n",
    "\n",
    "x = ulab.linspace(-5, 5, num=11)\n",
    "y = x*x + vector.sin(x)*3.0\n",
    "p = poly.polyfit(x, y, 2)\n",
    "print(p)"
   ]
  },
  {
   "cell_type": "code",
   "execution_count": 183,
   "metadata": {
    "ExecuteTime": {
     "end_time": "2020-03-11T06:14:47.008351Z",
     "start_time": "2020-03-11T06:14:46.973203Z"
    }
   },
   "outputs": [
    {
     "name": "stdout",
     "output_type": "stream",
     "text": [
      "array([0.9138471728743898, -8.074349270001139e-17], dtype=float)\n",
      "\n",
      "\n"
     ]
    }
   ],
   "source": [
    "%%micropython -unix 1\n",
    "\n",
    "import ulab\n",
    "from ulab import poly\n",
    "from ulab import vector\n",
    "\n",
    "x = ulab.linspace(-5, 5, num=11)\n",
    "y = x + vector.sin(x)\n",
    "p = poly.polyfit(x, y, 1)\n",
    "print(p)"
   ]
  },
  {
   "cell_type": "code",
   "execution_count": 201,
   "metadata": {
    "ExecuteTime": {
     "end_time": "2020-03-11T06:22:31.523005Z",
     "start_time": "2020-03-11T06:22:31.495181Z"
    }
   },
   "outputs": [
    {
     "name": "stdout",
     "output_type": "stream",
     "text": [
      "array([0.766798803225857, 0.0, 3.289453031323674, 0.0], dtype=float)\n",
      "\n",
      "\n"
     ]
    }
   ],
   "source": [
    "%%micropython -unix 1\n",
    "\n",
    "import ulab\n",
    "from ulab import poly\n",
    "from ulab import vector\n",
    "\n",
    "x = ulab.linspace(-5, 5, num=11)\n",
    "y = x*x*x + vector.sin(x)*10.0\n",
    "p = poly.polyfit(x, y, 3)\n",
    "print(p)"
   ]
  },
  {
   "cell_type": "code",
   "execution_count": 208,
   "metadata": {
    "ExecuteTime": {
     "end_time": "2020-03-11T06:27:21.727731Z",
     "start_time": "2020-03-11T06:27:21.709202Z"
    }
   },
   "outputs": [
    {
     "name": "stdout",
     "output_type": "stream",
     "text": [
      "[  3.       7.0625  14.25    24.5625  38.      54.5625  74.25    97.0625\n",
      " 123.    ]\n",
      "[ 0.    1.25  2.5   3.75  5.    6.25  7.5   8.75 10.  ]\n"
     ]
    },
    {
     "data": {
      "text/plain": [
       "numpy.ndarray"
      ]
     },
     "execution_count": 208,
     "metadata": {},
     "output_type": "execute_result"
    }
   ],
   "source": [
    "x = linspace(0, 10, num=9)\n",
    "p = [1, 2, 3]\n",
    "y = polyval(p, x)\n",
    "print(y)\n",
    "print(x)\n",
    "type(x)"
   ]
  },
  {
   "cell_type": "code",
   "execution_count": 204,
   "metadata": {
    "ExecuteTime": {
     "end_time": "2020-03-11T06:25:20.383434Z",
     "start_time": "2020-03-11T06:25:20.367642Z"
    }
   },
   "outputs": [
    {
     "name": "stdout",
     "output_type": "stream",
     "text": [
      "array([3.0, 7.0625, 14.25, 24.5625, 38.0, 54.56250000000001, 74.25000000000001, 97.06250000000001, 123.0], dtype=float)\n",
      "\n",
      "\n"
     ]
    }
   ],
   "source": [
    "%%micropython -unix 1\n",
    "\n",
    "import ulab\n",
    "from ulab import poly\n",
    "\n",
    "x = ulab.linspace(0, 10, num=9)\n",
    "p = [1, 2, 3]\n",
    "y = poly.polyval(p, x)\n",
    "print(y)"
   ]
  },
  {
   "cell_type": "code",
   "execution_count": 217,
   "metadata": {
    "ExecuteTime": {
     "end_time": "2020-03-11T15:56:42.536229Z",
     "start_time": "2020-03-11T15:56:42.501269Z"
    }
   },
   "outputs": [
    {
     "data": {
      "text/plain": [
       "array([[-2.16666667,  1.66666667, -0.5       ],\n",
       "       [ 2.33333333, -2.33333333,  1.        ],\n",
       "       [-0.5       ,  1.        , -0.5       ]])"
      ]
     },
     "execution_count": 217,
     "metadata": {},
     "output_type": "execute_result"
    }
   ],
   "source": [
    "a = array([[1, 2, 3], [4, 5, 6], [7, 8, 7]])\n",
    "\n",
    "inv(a)"
   ]
  },
  {
   "cell_type": "code",
   "execution_count": 237,
   "metadata": {
    "ExecuteTime": {
     "end_time": "2020-03-11T16:05:28.491885Z",
     "start_time": "2020-03-11T16:05:28.464683Z"
    }
   },
   "outputs": [
    {
     "name": "stdout",
     "output_type": "stream",
     "text": [
      "array([[5.0, -2.0],\n",
      "\t [-2.0, 1.0]], dtype=float)\n",
      "(array([0.1715728752538097, 5.82842712474619], dtype=float), array([[0.9238795325112868, 0.3826834323650898],\n",
      "\t [-0.3826834323650898, 0.9238795325112868]], dtype=float))\n",
      "\n",
      "\n"
     ]
    }
   ],
   "source": [
    "%%micropython -unix 1\n",
    "\n",
    "import ulab\n",
    "from ulab import linalg\n",
    "\n",
    "a = ulab.array([[1, 2], [2, 5]])\n",
    "c = ulab.array([[1, 2, 0, 0], [0, 6, 7, 0], [0, 0, 8, 9], [0, 0, 15, 13]])\n",
    "b = ulab.array([[1, 2, 3], [4, 5, 6], [7, 8, 7]])\n",
    "# a = ulab.array([[1, 2, 1, 4], [2, 5, 3, 5], [1, 3, 6, 1], [4, 5, 1, 7]])\n",
    "print(linalg.inv(a))\n",
    "print(linalg.eig(a))"
   ]
  },
  {
   "cell_type": "code",
   "execution_count": 241,
   "metadata": {
    "ExecuteTime": {
     "end_time": "2020-03-11T16:19:33.113821Z",
     "start_time": "2020-03-11T16:19:33.091334Z"
    }
   },
   "outputs": [
    {
     "data": {
      "text/plain": [
       "(array([0.17157288, 5.82842712]),\n",
       " array([[-0.92387953, -0.38268343],\n",
       "        [ 0.38268343, -0.92387953]]))"
      ]
     },
     "execution_count": 241,
     "metadata": {},
     "output_type": "execute_result"
    }
   ],
   "source": [
    "a = array([[1, 2], [2, 5]])\n",
    "c = array([[1, 2, 0, 0], [0, 6, 7, 0], [0, 0, 8, 9], [0, 0, 15, 13]])\n",
    "b = array([[1, 2, 3], [4, 5, 6], [7, 8, 7]])\n",
    "eig(a)"
   ]
  },
  {
   "cell_type": "code",
   "execution_count": 287,
   "metadata": {
    "ExecuteTime": {
     "end_time": "2020-03-12T06:25:41.201755Z",
     "start_time": "2020-03-12T06:25:41.173968Z"
    }
   },
   "outputs": [
    {
     "name": "stdout",
     "output_type": "stream",
     "text": [
      "array([1.0, 2.0, -3.0], dtype=float)\n",
      "array([1, 2, 253], dtype=uint8)\n",
      "\n",
      "\n"
     ]
    }
   ],
   "source": [
    "%%micropython -unix 1\n",
    "\n",
    "import ulab as np\n",
    "\n",
    "a = np.array([1, 2.2, -3], dtype=np.float)\n",
    "print(a.round())\n",
    "b = np.array(a, dtype=np.uint8)\n",
    "print(b)"
   ]
  },
  {
   "cell_type": "code",
   "execution_count": 275,
   "metadata": {
    "ExecuteTime": {
     "end_time": "2020-03-12T06:01:13.364553Z",
     "start_time": "2020-03-12T06:01:13.329495Z"
    }
   },
   "outputs": [
    {
     "name": "stdout",
     "output_type": "stream",
     "text": [
      "[ 1.   2.9 -3. ]\n"
     ]
    }
   ],
   "source": [
    "a = np.array([1, 2.9, -3], dtype=np.float)\n",
    "print(a)\n",
    "b = np.array(a, dtype=np.float)"
   ]
  },
  {
   "cell_type": "code",
   "execution_count": 268,
   "metadata": {
    "ExecuteTime": {
     "end_time": "2020-03-11T19:26:52.627520Z",
     "start_time": "2020-03-11T19:26:52.610668Z"
    }
   },
   "outputs": [
    {
     "data": {
      "text/plain": [
       "array([0.32175055, 0.5880026 , 0.78539816])"
      ]
     },
     "execution_count": 268,
     "metadata": {},
     "output_type": "execute_result"
    }
   ],
   "source": [
    "a = array([1, 2.8, 3], dtype=float)\n",
    "np.arctan2([1, 2, 3], 3)"
   ]
  },
  {
   "cell_type": "code",
   "execution_count": 25,
   "metadata": {
    "ExecuteTime": {
     "end_time": "2020-03-12T16:15:43.269125Z",
     "start_time": "2020-03-12T16:15:43.260469Z"
    }
   },
   "outputs": [
    {
     "data": {
      "text/plain": [
       "array([  1. ,   2.2,  33.3, 444.4])"
      ]
     },
     "execution_count": 25,
     "metadata": {},
     "output_type": "execute_result"
    }
   ],
   "source": [
    "a = array([1, 22.234234, 3])\n",
    "a = array([1, 2.2, 33.33, 444.444])\n",
    "a.round(1)"
   ]
  },
  {
   "cell_type": "code",
   "execution_count": 32,
   "metadata": {
    "ExecuteTime": {
     "end_time": "2020-03-12T21:39:40.382831Z",
     "start_time": "2020-03-12T21:39:40.370336Z"
    }
   },
   "outputs": [
    {
     "data": {
      "text/plain": [
       "array([2.50000000e-02, 5.38608673e-01, 1.16039721e+01, 2.50000000e+02,\n",
       "       5.38608673e+03, 1.16039721e+05, 2.50000000e+06])"
      ]
     },
     "execution_count": 32,
     "metadata": {},
     "output_type": "execute_result"
    }
   ],
   "source": [
    "logspace(0, 8, num=7)*0.025"
   ]
  },
  {
   "cell_type": "code",
   "execution_count": 27,
   "metadata": {
    "ExecuteTime": {
     "end_time": "2020-03-12T21:37:06.683831Z",
     "start_time": "2020-03-12T21:37:06.667332Z"
    },
    "scrolled": true
   },
   "outputs": [
    {
     "data": {
      "text/plain": [
       "6.09293243275961"
      ]
     },
     "execution_count": 27,
     "metadata": {},
     "output_type": "execute_result"
    }
   ],
   "source": [
    "log(1e9)/log(30.0)"
   ]
  },
  {
   "cell_type": "code",
   "execution_count": 255,
   "metadata": {
    "ExecuteTime": {
     "end_time": "2020-11-04T16:19:29.534670Z",
     "start_time": "2020-11-04T16:19:29.521527Z"
    }
   },
   "outputs": [
    {
     "name": "stdout",
     "output_type": "stream",
     "text": [
      "array([[0.0, 1.0, 2.0],\n",
      "       [3.0, 4.0, 5.0],\n",
      "       [6.0, 7.0, 8.0]], dtype=float)\n",
      "array([[0.123, 1.123, 2.123],\n",
      "       [3.123, 4.123, 5.123],\n",
      "       [6.123, 7.123, 8.122999999999999]], dtype=float)\n",
      "array([[0.0, 0.0, 0.0],\n",
      "       [0.0, 0.0, 10.0],\n",
      "       [10.0, 10.0, 10.0]], dtype=float)\n",
      "\n",
      "\n"
     ]
    }
   ],
   "source": [
    "%%micropython -unix 1\n",
    "\n",
    "import ulab as np\n",
    "\n",
    "g = np.array(range(9), dtype=np.float)\n",
    "a = g.reshape((3,3))\n",
    "print(a)\n",
    "a += np.array([0.123, 0.123, 0.123])\n",
    "print(a)\n",
    "print(np.around(a, decimals=-1))"
   ]
  },
  {
   "cell_type": "code",
   "execution_count": 120,
   "metadata": {
    "ExecuteTime": {
     "end_time": "2020-03-20T19:30:28.053195Z",
     "start_time": "2020-03-20T19:30:28.012539Z"
    }
   },
   "outputs": [
    {
     "name": "stdout",
     "output_type": "stream",
     "text": [
      "array([[[0.0, 0.0, 0.0]\n",
      "[10.0, 10.0, 10.0]\n",
      "[20.0, 20.0, 20.0]]\n",
      "\n",
      "[[30.0, 30.0, 30.0]\n",
      "[40.0, 40.0, 40.0]\n",
      "[50.0, 50.0, 50.0]]\n",
      "\n",
      "[[60.0, 60.0, 60.0]\n",
      "[70.0, 70.0, 70.0]\n",
      "[80.0, 80.0, 80.0]]], dtype=float)\n",
      "\n",
      "\n"
     ]
    }
   ],
   "source": [
    "%%micropython -unix 1\n",
    "\n",
    "import ulab\n",
    "from ulab import vector\n",
    "\n",
    "a = ulab.array(range(125)).reshape((5, 5, 5))\n",
    "print(vector.around(a[::2,::2,::2], decimals=-1))"
   ]
  },
  {
   "cell_type": "code",
   "execution_count": 42,
   "metadata": {
    "ExecuteTime": {
     "end_time": "2020-03-18T20:17:44.506712Z",
     "start_time": "2020-03-18T20:17:44.500290Z"
    }
   },
   "outputs": [
    {
     "data": {
      "text/plain": [
       "(8, 4, 2)"
      ]
     },
     "execution_count": 42,
     "metadata": {},
     "output_type": "execute_result"
    }
   ],
   "source": [
    "c = array(range(8), dtype=uint16).reshape((2, 2, 2))\n",
    "c.strides"
   ]
  },
  {
   "cell_type": "code",
   "execution_count": 257,
   "metadata": {
    "ExecuteTime": {
     "end_time": "2020-11-04T16:22:56.889084Z",
     "start_time": "2020-11-04T16:22:56.877088Z"
    }
   },
   "outputs": [
    {
     "name": "stdout",
     "output_type": "stream",
     "text": [
      "array([[1.570796326794897, 0.7853981633974483, 0.4636476090008061],\n",
      "       [0.3217505543966422, 0.2449786631268641, 0.1973955598498808],\n",
      "       [0.1651486774146268, 0.1418970546041639, 0.1243549945467614]], dtype=float)\n",
      "\n",
      "\n"
     ]
    }
   ],
   "source": [
    "%%micropython -unix 1\n",
    "\n",
    "import ulab as np\n",
    "\n",
    "a = np.array(range(9)).reshape((3, 3))\n",
    "b = np.array(range(9)).reshape((3, 3))\n",
    "print(np.arctan2(1.0, a))"
   ]
  },
  {
   "cell_type": "code",
   "execution_count": 137,
   "metadata": {
    "ExecuteTime": {
     "end_time": "2020-03-25T11:33:29.239273Z",
     "start_time": "2020-03-25T11:33:29.212415Z"
    }
   },
   "outputs": [
    {
     "data": {
      "text/plain": [
       "array([0, 3, 6, 9], dtype=int8)"
      ]
     },
     "execution_count": 137,
     "metadata": {},
     "output_type": "execute_result"
    }
   ],
   "source": [
    "arange(0, 10, 3, dtype=int8)"
   ]
  },
  {
   "cell_type": "code",
   "execution_count": 135,
   "metadata": {
    "ExecuteTime": {
     "end_time": "2020-03-23T19:33:20.096734Z",
     "start_time": "2020-03-23T19:33:20.087639Z"
    }
   },
   "outputs": [
    {
     "name": "stdout",
     "output_type": "stream",
     "text": [
      "[[0.         0.78539816 0.78539816]\n",
      " [0.78539816 0.78539816 0.78539816]\n",
      " [0.78539816 0.78539816 0.78539816]]\n"
     ]
    }
   ],
   "source": [
    "a = array(range(9)).reshape((3, 3))\n",
    "print(arctan2(a, a))"
   ]
  },
  {
   "cell_type": "code",
   "execution_count": 42,
   "metadata": {
    "ExecuteTime": {
     "end_time": "2020-03-16T18:28:33.544123Z",
     "start_time": "2020-03-16T18:28:33.537494Z"
    }
   },
   "outputs": [
    {
     "data": {
      "text/plain": [
       "array([0.78539816, 1.52584844, 1.24904577])"
      ]
     },
     "execution_count": 42,
     "metadata": {},
     "output_type": "execute_result"
    }
   ],
   "source": [
    "arctan2([1, 22.233, 3.], 1.0)"
   ]
  },
  {
   "cell_type": "markdown",
   "metadata": {},
   "source": [
    "# stm32 port"
   ]
  },
  {
   "cell_type": "code",
   "execution_count": 69,
   "metadata": {
    "ExecuteTime": {
     "end_time": "2020-03-19T10:13:57.563876Z",
     "start_time": "2020-03-19T10:13:57.559445Z"
    }
   },
   "outputs": [
    {
     "name": "stdout",
     "output_type": "stream",
     "text": [
      "/home/v923z/sandbox/micropython/v1.11/micropython/ports/stm32\n"
     ]
    }
   ],
   "source": [
    "%cd ../../../micropython/ports/stm32/"
   ]
  },
  {
   "cell_type": "code",
   "execution_count": null,
   "metadata": {
    "ExecuteTime": {
     "end_time": "2020-03-20T08:38:23.772051Z",
     "start_time": "2020-03-20T08:37:33.175005Z"
    },
    "scrolled": false
   },
   "outputs": [],
   "source": [
    "!rm -rf build-PYBV11\n",
    "!make BOARD=PYBV11 USER_C_MODULES=../../../ulab all"
   ]
  },
  {
   "cell_type": "code",
   "execution_count": 136,
   "metadata": {
    "ExecuteTime": {
     "end_time": "2020-04-02T19:21:47.177715Z",
     "start_time": "2020-04-02T19:21:47.152484Z"
    }
   },
   "outputs": [
    {
     "name": "stdout",
     "output_type": "stream",
     "text": [
      "array([[1.13691267467, -0.9246521490400001, 0.6414371867126509],\n",
      "\t [0.663352446473, -0.622861881082, 0.429580700421],\n",
      "\t [0.330739380869, -0.9881635537620001, 0.375976807387],\n",
      "\t [0.261990005165, -1.23146889397, 1.0270776897]], dtype=float)\n",
      "array([[0.261990005165, -1.23146889397, 0.375976807387],\n",
      "\t [0.330739380869, -0.9881635537620001, 0.429580700421],\n",
      "\t [0.663352446473, -0.9246521490400001, 0.6414371867126509],\n",
      "\t [1.13691267467, -0.622861881082, 1.0270776897]], dtype=float)\n",
      "\n",
      "\n"
     ]
    }
   ],
   "source": [
    "%%micropython -unix 1\n",
    "\n",
    "import ulab \n",
    "\n",
    "a = ulab.array([[6.058420993051577, 2.018588295338188, 6.307303740008193, 6.743567296659661], [3.760399477657426, 1.501626760992716, 1.020398368879967, 1.903483081086812], [5.20075447514754, 0.7655233559988428, 0.2730999062713479, 5.448723074844875], [3.666587663986214, 0.5528238825462162, 7.759826840359533, 9.887756673795574], [3.228270818725618, 1.784248212712498, 5.302361277197747, 6.772730290987155]])\n",
    "\n",
    "# a = ulab.array(range(20), dtype=ulab.uint8).reshape((5, 4))\n",
    "a = ulab.array([[1.13691267467, -0.924652149040, 0.6414371867126509],\n",
    "                [0.663352446473, -0.622861881082, 0.429580700421],\n",
    "                [0.330739380869, -0.988163553762, 0.375976807387],\n",
    "                [0.261990005165, -1.23146889397, 1.02707768970]], dtype=ulab.float)\n",
    "print(a)\n",
    "print(ulab.numerical.sort(a, axis=0))"
   ]
  },
  {
   "cell_type": "code",
   "execution_count": 84,
   "metadata": {
    "ExecuteTime": {
     "end_time": "2020-04-07T20:31:44.118198Z",
     "start_time": "2020-04-07T20:31:44.102501Z"
    }
   },
   "outputs": [
    {
     "name": "stdout",
     "output_type": "stream",
     "text": [
      "array([3, 4, 5, 0, 1, 2, 6, 7, 8], dtype=uint16)\n",
      "array([[4.0, 5.0, 6.0],\n",
      "\t [1.0, 2.0, 3.0],\n",
      "\t [7.0, 8.0, 9.0]], dtype=float)\n",
      "\n",
      "\n"
     ]
    }
   ],
   "source": [
    "%%micropython -unix 1\n",
    "\n",
    "import ulab\n",
    "\n",
    "a = ulab.array([[4,5,6],[1,2,3],[7,8,9]])\n",
    "b = ulab.numerical.argsort(a, axis=None)\n",
    "print(b)\n",
    "print(a)"
   ]
  },
  {
   "cell_type": "code",
   "execution_count": 102,
   "metadata": {
    "ExecuteTime": {
     "end_time": "2020-04-09T10:34:14.985245Z",
     "start_time": "2020-04-09T10:34:14.975131Z"
    }
   },
   "outputs": [
    {
     "name": "stdout",
     "output_type": "stream",
     "text": [
      "array([0, 1, 2, ..., 7, 8, 9], dtype=uint16)\n",
      "array([0, 1, 2, ..., 7, 8, 9], dtype=uint16)\n",
      "\n",
      "\n"
     ]
    }
   ],
   "source": [
    "%%micropython -unix 1\n",
    "\n",
    "import ulab\n",
    "\n",
    "a = ulab.array(range(10), dtype=ulab.uint16)\n",
    "print(a)\n",
    "print(a.transpose())"
   ]
  },
  {
   "cell_type": "code",
   "execution_count": 96,
   "metadata": {
    "ExecuteTime": {
     "end_time": "2020-04-07T21:05:34.882092Z",
     "start_time": "2020-04-07T21:05:34.871797Z"
    }
   },
   "outputs": [
    {
     "name": "stdout",
     "output_type": "stream",
     "text": [
      "\n",
      "Traceback (most recent call last):\n",
      "  File \"/dev/shm/micropython.py\", line 4, in <module>\n",
      "TypeError: can't convert list to float\n",
      "\n"
     ]
    }
   ],
   "source": [
    "%%micropython -unix 1\n",
    "\n",
    "import ulab\n",
    "\n",
    "print(ulab.numerical.argmax([[1, 2], [2, 2]]))\n",
    "# ulab.numerical.argmax(ulab.array([[1,2],[4,3]]))"
   ]
  },
  {
   "cell_type": "code",
   "execution_count": 76,
   "metadata": {
    "ExecuteTime": {
     "end_time": "2020-04-06T07:07:58.168019Z",
     "start_time": "2020-04-06T07:07:58.156506Z"
    }
   },
   "outputs": [
    {
     "name": "stdout",
     "output_type": "stream",
     "text": [
      "0.41.0\n",
      "array([2.0, 2.0, 2.0], dtype=float)\n",
      "[False, True, False]\n",
      "[False, True, False]\n",
      "[True, False, True]\n",
      "\n",
      "\n"
     ]
    }
   ],
   "source": [
    "%%micropython -unix 1\n",
    "\n",
    "import ulab\n",
    "\n",
    "print(ulab.__version__)\n",
    "a = ulab.array([1, 2, 3], dtype=ulab.uint8)\n",
    "b = ulab.array([2, 2, 2])\n",
    "print(b)\n",
    "print(a == b)\n",
    "print(a == 2)\n",
    "print(2 != a)"
   ]
  },
  {
   "cell_type": "code",
   "execution_count": 168,
   "metadata": {
    "ExecuteTime": {
     "end_time": "2020-07-30T19:38:10.185279Z",
     "start_time": "2020-07-30T19:38:10.174634Z"
    },
    "scrolled": false
   },
   "outputs": [
    {
     "name": "stdout",
     "output_type": "stream",
     "text": [
      "\n",
      "\n"
     ]
    }
   ],
   "source": [
    "%%micropython -unix 1\n",
    "\n",
    "import ulab\n",
    "from ulab import fft"
   ]
  },
  {
   "cell_type": "code",
   "execution_count": 122,
   "metadata": {
    "ExecuteTime": {
     "end_time": "2020-07-29T16:44:30.363457Z",
     "start_time": "2020-07-29T16:44:30.344270Z"
    }
   },
   "outputs": [
    {
     "name": "stdout",
     "output_type": "stream",
     "text": [
      "array([0.0, 1.25, 2.5, 3.75, 5.0, 6.25, 7.5, 8.75, 10.0], dtype=float)\n",
      "array([3.0, 7.0625, 14.25, 24.5625, 38.0, 54.56250000000001, 74.25000000000001, 97.06250000000001, 123.0], dtype=float)\n",
      "array([0.9138471728743898, -8.074349270001139e-17], dtype=float)\n",
      "array([1.0, -0.2584584813768293, 3.552713678800501e-15], dtype=float)\n",
      "array([0.766798803225857, 0.0, 3.289453031323674, 0.0], dtype=float)\n",
      "\n",
      "\n"
     ]
    }
   ],
   "source": [
    "%%micropython -unix 1\n",
    "\n",
    "import ulab\n",
    "from ulab import poly\n",
    "from ulab import vector\n",
    "\n",
    "# polynom evaluation\n",
    "x = ulab.linspace(0, 10, 9)\n",
    "print(x)\n",
    "p = [1, 2, 3]\n",
    "y = poly.polyval(p, x)\n",
    "print(y)\n",
    "\n",
    "# linear fit\n",
    "x = ulab.linspace(-5, 5, num=11)\n",
    "y = x + vector.sin(x)\n",
    "p = poly.polyfit(x, y, 1)\n",
    "print(p)\n",
    "\n",
    "# quadratic fit\n",
    "x = ulab.linspace(-5, 5, num=11)\n",
    "y = x*x + vector.sin(x)*3.0\n",
    "p = poly.polyfit(x, y, 2)\n",
    "print(p)\n",
    "\n",
    "# cubic fit\n",
    "x = ulab.linspace(-5, 5, num=11)\n",
    "y = x*x*x + vector.sin(x)*10.0\n",
    "p = poly.polyfit(x, y, 3)\n",
    "print(p)"
   ]
  },
  {
   "cell_type": "code",
   "execution_count": 41,
   "metadata": {
    "ExecuteTime": {
     "end_time": "2020-04-04T19:46:31.467253Z",
     "start_time": "2020-04-04T19:46:31.457363Z"
    }
   },
   "outputs": [
    {
     "data": {
      "text/plain": [
       "array([False,  True, False])"
      ]
     },
     "execution_count": 41,
     "metadata": {},
     "output_type": "execute_result"
    }
   ],
   "source": [
    "a = array([1, 2, 3])\n",
    "b = array([1, 2, 3, 3])\n",
    "\n",
    "a == 2"
   ]
  },
  {
   "cell_type": "code",
   "execution_count": 86,
   "metadata": {
    "ExecuteTime": {
     "end_time": "2020-04-02T10:34:04.075775Z",
     "start_time": "2020-04-02T10:34:04.054585Z"
    }
   },
   "outputs": [
    {
     "name": "stdout",
     "output_type": "stream",
     "text": [
      "[ True  True False] [ True  True  True]\n"
     ]
    },
    {
     "data": {
      "text/plain": [
       "(dtype('uint8'), dtype('float32'), dtype('float32'))"
      ]
     },
     "execution_count": 86,
     "metadata": {},
     "output_type": "execute_result"
    }
   ],
   "source": [
    "a = array([1, 2, 3], dtype=uint8)\n",
    "b = array([1, 2, 3.000001], dtype=float32)\n",
    "c = array([1, 2, 3.0000001], dtype=float32)\n",
    "print(a == b, a == c)\n",
    "a.dtype, b.dtype, c.dtype"
   ]
  },
  {
   "cell_type": "code",
   "execution_count": 32,
   "metadata": {
    "ExecuteTime": {
     "end_time": "2020-04-21T20:18:28.889264Z",
     "start_time": "2020-04-21T20:18:28.863702Z"
    }
   },
   "outputs": [
    {
     "data": {
      "text/plain": [
       "1"
      ]
     },
     "execution_count": 32,
     "metadata": {},
     "output_type": "execute_result"
    }
   ],
   "source": [
    "a = array([1], dtype=float)\n",
    "b = array([0], dtype=int8)\n",
    "minimum(1, 3)"
   ]
  },
  {
   "cell_type": "code",
   "execution_count": 114,
   "metadata": {
    "ExecuteTime": {
     "end_time": "2020-07-29T16:24:57.419688Z",
     "start_time": "2020-07-29T16:24:57.404687Z"
    }
   },
   "outputs": [
    {
     "ename": "ValueError",
     "evalue": "maxiter should be > 0",
     "output_type": "error",
     "traceback": [
      "\u001b[0;31m---------------------------------------------------------------------------\u001b[0m",
      "\u001b[0;31mValueError\u001b[0m                                Traceback (most recent call last)",
      "\u001b[0;32m<ipython-input-114-605a41993d51>\u001b[0m in \u001b[0;36m<module>\u001b[0;34m\u001b[0m\n\u001b[1;32m      4\u001b[0m     \u001b[0;32mreturn\u001b[0m \u001b[0mx\u001b[0m\u001b[0;34m*\u001b[0m\u001b[0mx\u001b[0m\u001b[0;34m-\u001b[0m\u001b[0;36m1.1\u001b[0m\u001b[0;34m\u001b[0m\u001b[0;34m\u001b[0m\u001b[0m\n\u001b[1;32m      5\u001b[0m \u001b[0;34m\u001b[0m\u001b[0m\n\u001b[0;32m----> 6\u001b[0;31m \u001b[0moptimize\u001b[0m\u001b[0;34m.\u001b[0m\u001b[0mbisect\u001b[0m\u001b[0;34m(\u001b[0m\u001b[0mf\u001b[0m\u001b[0;34m,\u001b[0m \u001b[0;36m0\u001b[0m\u001b[0;34m,\u001b[0m \u001b[0;36m2\u001b[0m\u001b[0;34m,\u001b[0m \u001b[0mmaxiter\u001b[0m\u001b[0;34m=\u001b[0m\u001b[0;34m-\u001b[0m\u001b[0;36m100\u001b[0m\u001b[0;34m)\u001b[0m\u001b[0;34m\u001b[0m\u001b[0;34m\u001b[0m\u001b[0m\n\u001b[0m",
      "\u001b[0;32m~/anaconda3/lib/python3.7/site-packages/scipy/optimize/zeros.py\u001b[0m in \u001b[0;36mbisect\u001b[0;34m(f, a, b, args, xtol, rtol, maxiter, full_output, disp)\u001b[0m\n\u001b[1;32m    551\u001b[0m     \u001b[0;32mif\u001b[0m \u001b[0mrtol\u001b[0m \u001b[0;34m<\u001b[0m \u001b[0m_rtol\u001b[0m\u001b[0;34m:\u001b[0m\u001b[0;34m\u001b[0m\u001b[0;34m\u001b[0m\u001b[0m\n\u001b[1;32m    552\u001b[0m         \u001b[0;32mraise\u001b[0m \u001b[0mValueError\u001b[0m\u001b[0;34m(\u001b[0m\u001b[0;34m\"rtol too small (%g < %g)\"\u001b[0m \u001b[0;34m%\u001b[0m \u001b[0;34m(\u001b[0m\u001b[0mrtol\u001b[0m\u001b[0;34m,\u001b[0m \u001b[0m_rtol\u001b[0m\u001b[0;34m)\u001b[0m\u001b[0;34m)\u001b[0m\u001b[0;34m\u001b[0m\u001b[0;34m\u001b[0m\u001b[0m\n\u001b[0;32m--> 553\u001b[0;31m     \u001b[0mr\u001b[0m \u001b[0;34m=\u001b[0m \u001b[0m_zeros\u001b[0m\u001b[0;34m.\u001b[0m\u001b[0m_bisect\u001b[0m\u001b[0;34m(\u001b[0m\u001b[0mf\u001b[0m\u001b[0;34m,\u001b[0m \u001b[0ma\u001b[0m\u001b[0;34m,\u001b[0m \u001b[0mb\u001b[0m\u001b[0;34m,\u001b[0m \u001b[0mxtol\u001b[0m\u001b[0;34m,\u001b[0m \u001b[0mrtol\u001b[0m\u001b[0;34m,\u001b[0m \u001b[0mmaxiter\u001b[0m\u001b[0;34m,\u001b[0m \u001b[0margs\u001b[0m\u001b[0;34m,\u001b[0m \u001b[0mfull_output\u001b[0m\u001b[0;34m,\u001b[0m \u001b[0mdisp\u001b[0m\u001b[0;34m)\u001b[0m\u001b[0;34m\u001b[0m\u001b[0;34m\u001b[0m\u001b[0m\n\u001b[0m\u001b[1;32m    554\u001b[0m     \u001b[0;32mreturn\u001b[0m \u001b[0mresults_c\u001b[0m\u001b[0;34m(\u001b[0m\u001b[0mfull_output\u001b[0m\u001b[0;34m,\u001b[0m \u001b[0mr\u001b[0m\u001b[0;34m)\u001b[0m\u001b[0;34m\u001b[0m\u001b[0;34m\u001b[0m\u001b[0m\n\u001b[1;32m    555\u001b[0m \u001b[0;34m\u001b[0m\u001b[0m\n",
      "\u001b[0;31mValueError\u001b[0m: maxiter should be > 0"
     ]
    }
   ],
   "source": [
    "from scipy import optimize\n",
    "\n",
    "def f(x):\n",
    "    return x*x-1.1\n",
    "\n",
    "optimize.bisect(f, 0, 2, maxiter=-100)"
   ]
  },
  {
   "cell_type": "code",
   "execution_count": 115,
   "metadata": {
    "ExecuteTime": {
     "end_time": "2020-07-29T16:27:11.168249Z",
     "start_time": "2020-07-29T16:27:11.153055Z"
    }
   },
   "outputs": [
    {
     "name": "stdout",
     "output_type": "stream",
     "text": [
      "0.9999997615814209\n",
      "\n",
      "\n"
     ]
    }
   ],
   "source": [
    "%%micropython -unix 1\n",
    "\n",
    "import ulab\n",
    "from ulab import approx\n",
    "\n",
    "def f(x):\n",
    "    return x*x - 1\n",
    "\n",
    "print(approx.bisect(f, 0, 4))"
   ]
  },
  {
   "cell_type": "code",
   "execution_count": 68,
   "metadata": {
    "ExecuteTime": {
     "end_time": "2020-04-26T19:17:07.876728Z",
     "start_time": "2020-04-26T19:17:07.849677Z"
    }
   },
   "outputs": [
    {
     "name": "stdout",
     "output_type": "stream",
     "text": [
      "array([0.5, 1.5, 2.5, 3.5, 4.5], dtype=float)\n",
      "array([1.0, 1.5, 2.5, 4.0, 5.0], dtype=float)\n",
      "array([0.0, 1.5, 2.5, 4.0, 5.0], dtype=float)\n",
      "array([1.0, 1.5, 2.5, 4.0, 10.0], dtype=float)\n",
      "\n",
      "\n"
     ]
    }
   ],
   "source": [
    "%%micropython -unix 1\n",
    "\n",
    "import ulab\n",
    "from ulab import poly\n",
    "\n",
    "x = ulab.array([1, 2, 3, 4, 5])\n",
    "xp = ulab.array([1, 2, 3, 4])\n",
    "fp = ulab.array([1, 2, 3, 5])\n",
    "x = x - 0.2\n",
    "print(x)\n",
    "print(poly.interp(x, xp, fp))\n",
    "print(poly.interp(x, xp, fp, left=0.0))\n",
    "print(poly.interp(x, xp, fp, right=10.0))"
   ]
  },
  {
   "cell_type": "code",
   "execution_count": 70,
   "metadata": {
    "ExecuteTime": {
     "end_time": "2020-05-03T14:50:11.170532Z",
     "start_time": "2020-05-03T14:50:11.148990Z"
    }
   },
   "outputs": [
    {
     "name": "stdout",
     "output_type": "stream",
     "text": [
      "1.259922046961565\n",
      "1.259921014308929\n",
      "\n",
      "\n"
     ]
    }
   ],
   "source": [
    "%%micropython -unix 1\n",
    "\n",
    "import ulab\n",
    "from ulab import approx\n",
    "\n",
    "def f(x):\n",
    "    return x*x*x - 2.0\n",
    "\n",
    "print(approx.newton(f, 3., tol=0.001, rtol=0.0))\n",
    "print(approx.bisect(f, 0, 3))"
   ]
  },
  {
   "cell_type": "code",
   "execution_count": 102,
   "metadata": {
    "ExecuteTime": {
     "end_time": "2020-04-28T21:27:41.523264Z",
     "start_time": "2020-04-28T21:27:41.505561Z"
    }
   },
   "outputs": [],
   "source": [
    "def bisect(f, a, b, xtol=1.2e-12, maxiter=100):\n",
    "    if f(a) * f(b) > 0:\n",
    "        raise ValueError\n",
    "        \n",
    "    rtb = a if f(a) < 0.0 else b\n",
    "    dx = b - a if f(a) < 0.0 else a - b\n",
    "    for i in range(maxiter):\n",
    "        dx *= 0.5\n",
    "        x_mid = rtb + dx\n",
    "        mid_value = f(x_mid)\n",
    "        if mid_value < 0:\n",
    "            rtb = x_mid\n",
    "        if abs(dx) < xtol:\n",
    "            break\n",
    "            \n",
    "    return rtb"
   ]
  },
  {
   "cell_type": "code",
   "execution_count": 73,
   "metadata": {
    "ExecuteTime": {
     "end_time": "2020-05-05T21:17:19.699509Z",
     "start_time": "2020-05-05T21:17:19.693464Z"
    }
   },
   "outputs": [],
   "source": [
    "import struct\n",
    "def binary(num):\n",
    "    return ''.join(bin(ord(c)).replace('0b', '').rjust(8, '0') for c in struct.pack('!f', num))"
   ]
  },
  {
   "cell_type": "code",
   "execution_count": 90,
   "metadata": {
    "ExecuteTime": {
     "end_time": "2020-05-05T21:47:44.370669Z",
     "start_time": "2020-05-05T21:47:44.343102Z"
    }
   },
   "outputs": [
    {
     "name": "stdout",
     "output_type": "stream",
     "text": [
      "\n",
      "Traceback (most recent call last):\n",
      "  File \"/dev/shm/micropython.py\", line 5, in <module>\n",
      "TypeError: f() takes 2 positional arguments but 1 were given\n",
      "\n"
     ]
    }
   ],
   "source": [
    "%%micropython -unix 1\n",
    "\n",
    "def f(a, b):\n",
    "    return a*b\n",
    "\n",
    "f(1)"
   ]
  },
  {
   "cell_type": "code",
   "execution_count": 83,
   "metadata": {
    "ExecuteTime": {
     "end_time": "2020-05-05T21:18:46.405558Z",
     "start_time": "2020-05-05T21:18:46.390852Z"
    }
   },
   "outputs": [
    {
     "data": {
      "text/plain": [
       "'0b111011100000000000000000000000'"
      ]
     },
     "execution_count": 83,
     "metadata": {},
     "output_type": "execute_result"
    }
   ],
   "source": [
    "bin(struct.unpack('!i',struct.pack('!f',0.0625/16.))[0])"
   ]
  },
  {
   "cell_type": "code",
   "execution_count": 46,
   "metadata": {
    "ExecuteTime": {
     "end_time": "2020-05-03T09:30:52.669053Z",
     "start_time": "2020-05-03T09:30:52.466293Z"
    }
   },
   "outputs": [
    {
     "data": {
      "image/png": "[encoded data removed]",
      "text/plain": [
       "<Figure size 432x288 with 1 Axes>"
      ]
     },
     "metadata": {
      "needs_background": "light"
     },
     "output_type": "display_data"
    }
   ],
   "source": [
    "x = linspace(1.5, 3., 100)\n",
    "plot(x, (x-1)**2 -2)\n",
    "grid()"
   ]
  },
  {
   "cell_type": "code",
   "execution_count": 1,
   "metadata": {
    "ExecuteTime": {
     "end_time": "2020-05-18T16:53:23.971711Z",
     "start_time": "2020-05-18T16:53:23.923114Z"
    }
   },
   "outputs": [
    {
     "ename": "NameError",
     "evalue": "name 'optimize' is not defined",
     "output_type": "error",
     "traceback": [
      "\u001b[0;31m---------------------------------------------------------------------------\u001b[0m",
      "\u001b[0;31mNameError\u001b[0m                                 Traceback (most recent call last)",
      "\u001b[0;32m<ipython-input-1-76c00f056753>\u001b[0m in \u001b[0;36m<module>\u001b[0;34m\u001b[0m\n\u001b[1;32m      3\u001b[0m \u001b[0;34m\u001b[0m\u001b[0m\n\u001b[1;32m      4\u001b[0m \u001b[0;31m# bisect(f, -5, 0)\u001b[0m\u001b[0;34m\u001b[0m\u001b[0;34m\u001b[0m\u001b[0;34m\u001b[0m\u001b[0m\n\u001b[0;32m----> 5\u001b[0;31m \u001b[0moptimize\u001b[0m\u001b[0;34m.\u001b[0m\u001b[0mnewton\u001b[0m\u001b[0;34m(\u001b[0m\u001b[0mf\u001b[0m\u001b[0;34m,\u001b[0m \u001b[0;36m3.\u001b[0m\u001b[0;34m)\u001b[0m\u001b[0;34m\u001b[0m\u001b[0;34m\u001b[0m\u001b[0m\n\u001b[0m",
      "\u001b[0;31mNameError\u001b[0m: name 'optimize' is not defined"
     ]
    }
   ],
   "source": [
    "def f(x):\n",
    "    return x*x - 2\n",
    "\n",
    "# bisect(f, -5, 0)\n",
    "optimize.newton(f, 3.)"
   ]
  },
  {
   "cell_type": "code",
   "execution_count": 7,
   "metadata": {
    "ExecuteTime": {
     "end_time": "2020-05-18T17:00:56.884196Z",
     "start_time": "2020-05-18T17:00:56.873417Z"
    }
   },
   "outputs": [
    {
     "data": {
      "text/plain": [
       "<function numpy.polyval(p, x)>"
      ]
     },
     "execution_count": 7,
     "metadata": {},
     "output_type": "execute_result"
    }
   ],
   "source": [
    "poly"
   ]
  },
  {
   "cell_type": "code",
   "execution_count": 2,
   "metadata": {
    "ExecuteTime": {
     "end_time": "2020-05-18T16:53:49.808111Z",
     "start_time": "2020-05-18T16:53:47.148204Z"
    }
   },
   "outputs": [],
   "source": [
    "from scipy import optimize"
   ]
  },
  {
   "cell_type": "code",
   "execution_count": 3,
   "metadata": {
    "ExecuteTime": {
     "end_time": "2020-05-18T16:53:49.865895Z",
     "start_time": "2020-05-18T16:53:49.848742Z"
    }
   },
   "outputs": [
    {
     "name": "stdout",
     "output_type": "stream",
     "text": [
      "Optimization terminated successfully.\n",
      "         Current function value: -2.000000\n",
      "         Iterations: 19\n",
      "         Function evaluations: 38\n"
     ]
    },
    {
     "data": {
      "text/plain": [
       "array([-7.10542736e-15])"
      ]
     },
     "execution_count": 3,
     "metadata": {},
     "output_type": "execute_result"
    }
   ],
   "source": [
    "optimize.fmin(f, 3)"
   ]
  },
  {
   "cell_type": "code",
   "execution_count": 238,
   "metadata": {
    "ExecuteTime": {
     "end_time": "2020-04-30T20:48:21.245059Z",
     "start_time": "2020-04-30T20:48:20.852825Z"
    }
   },
   "outputs": [],
   "source": [
    "optimize.least_squares??"
   ]
  },
  {
   "cell_type": "code",
   "execution_count": 68,
   "metadata": {
    "ExecuteTime": {
     "end_time": "2020-05-03T09:48:49.319551Z",
     "start_time": "2020-05-03T09:48:49.250900Z"
    },
    "scrolled": false
   },
   "outputs": [
    {
     "name": "stdout",
     "output_type": "stream",
     "text": [
      "execution time:  1242  us\r\n",
      "execution time:  631  us\r\n",
      "\n"
     ]
    }
   ],
   "source": [
    "%%micropython\n",
    "\n",
    "import ulab\n",
    "from ulab import approx\n",
    "\n",
    "def f(x):\n",
    "    return (x-1)*(x-1) - 2.0\n",
    "\n",
    "def bisect(f, a, b, xtol=2.4e-7, maxiter=100):\n",
    "    if f(a) * f(b) > 0:\n",
    "        raise ValueError\n",
    "        \n",
    "    rtb = a if f(a) < 0.0 else b\n",
    "    dx = b - a if f(a) < 0.0 else a - b\n",
    "    for i in range(maxiter):\n",
    "        dx *= 0.5\n",
    "        x_mid = rtb + dx\n",
    "        mid_value = f(x_mid)\n",
    "        if mid_value < 0:\n",
    "            rtb = x_mid\n",
    "        if abs(dx) < xtol:\n",
    "            break\n",
    "            \n",
    "    return rtb\n",
    "\n",
    "@timeit\n",
    "def bisect_approx(f, a, b):\n",
    "    return approx.bisect(f, a, b)\n",
    "\n",
    "@timeit\n",
    "def bisect_timed(f, a, b):\n",
    "    return bisect(f, a, b)\n",
    "\n",
    "bisect_timed(f, 3, 2)\n",
    "bisect_approx(f, 3, 2)"
   ]
  },
  {
   "cell_type": "code",
   "execution_count": 226,
   "metadata": {
    "ExecuteTime": {
     "end_time": "2020-04-30T18:39:11.314694Z",
     "start_time": "2020-04-30T18:39:11.284288Z"
    }
   },
   "outputs": [],
   "source": [
    "def _minimize_neldermead(func, x0, args=(), callback=None,\n",
    "                         maxiter=None, maxfev=None, disp=False,\n",
    "                         return_all=False, initial_simplex=None,\n",
    "                         xatol=1e-4, fatol=1e-4, adaptive=False,\n",
    "                         **unknown_options):\n",
    "    \"\"\"\n",
    "    Minimization of scalar function of one or more variables using the\n",
    "    Nelder-Mead algorithm.\n",
    "\n",
    "    Options\n",
    "    -------\n",
    "    disp : bool\n",
    "        Set to True to print convergence messages.\n",
    "    maxiter, maxfev : int\n",
    "        Maximum allowed number of iterations and function evaluations.\n",
    "        Will default to ``N*200``, where ``N`` is the number of\n",
    "        variables, if neither `maxiter` or `maxfev` is set. If both\n",
    "        `maxiter` and `maxfev` are set, minimization will stop at the\n",
    "        first reached.\n",
    "    initial_simplex : array_like of shape (N + 1, N)\n",
    "        Initial simplex. If given, overrides `x0`.\n",
    "        ``initial_simplex[j,:]`` should contain the coordinates of\n",
    "        the j-th vertex of the ``N+1`` vertices in the simplex, where\n",
    "        ``N`` is the dimension.\n",
    "    xatol : float, optional\n",
    "        Absolute error in xopt between iterations that is acceptable for\n",
    "        convergence.\n",
    "    fatol : number, optional\n",
    "        Absolute error in func(xopt) between iterations that is acceptable for\n",
    "        convergence.\n",
    "    adaptive : bool, optional\n",
    "        Adapt algorithm parameters to dimensionality of problem. Useful for\n",
    "        high-dimensional minimization [1]_.\n",
    "\n",
    "    References\n",
    "    ----------\n",
    "    .. [1] Gao, F. and Han, L.\n",
    "       Implementing the Nelder-Mead simplex algorithm with adaptive\n",
    "       parameters. 2012. Computational Optimization and Applications.\n",
    "       51:1, pp. 259-277\n",
    "\n",
    "    \"\"\"\n",
    "    if 'ftol' in unknown_options:\n",
    "        warnings.warn(\"ftol is deprecated for Nelder-Mead,\"\n",
    "                      \" use fatol instead. If you specified both, only\"\n",
    "                      \" fatol is used.\",\n",
    "                      DeprecationWarning)\n",
    "        if (np.isclose(fatol, 1e-4) and\n",
    "                not np.isclose(unknown_options['ftol'], 1e-4)):\n",
    "            # only ftol was probably specified, use it.\n",
    "            fatol = unknown_options['ftol']\n",
    "        unknown_options.pop('ftol')\n",
    "    if 'xtol' in unknown_options:\n",
    "        warnings.warn(\"xtol is deprecated for Nelder-Mead,\"\n",
    "                      \" use xatol instead. If you specified both, only\"\n",
    "                      \" xatol is used.\",\n",
    "                      DeprecationWarning)\n",
    "        if (np.isclose(xatol, 1e-4) and\n",
    "                not np.isclose(unknown_options['xtol'], 1e-4)):\n",
    "            # only xtol was probably specified, use it.\n",
    "            xatol = unknown_options['xtol']\n",
    "        unknown_options.pop('xtol')\n",
    "\n",
    "    maxfun = maxfev\n",
    "    retall = return_all\n",
    "\n",
    "#     fcalls, func = wrap_function(func, args)\n",
    "\n",
    "    if adaptive:\n",
    "        dim = float(len(x0))\n",
    "        rho = 1\n",
    "        chi = 1 + 2/dim\n",
    "        psi = 0.75 - 1/(2*dim)\n",
    "        sigma = 1 - 1/dim\n",
    "    else:\n",
    "        rho = 1\n",
    "        chi = 2\n",
    "        psi = 0.5\n",
    "        sigma = 0.5\n",
    "\n",
    "    nonzdelt = 0.05\n",
    "    zdelt = 0.00025\n",
    "\n",
    "    x0 = asfarray(x0).flatten()\n",
    "\n",
    "    if initial_simplex is None:\n",
    "        N = len(x0)\n",
    "\n",
    "        sim = numpy.zeros((N + 1, N), dtype=x0.dtype)\n",
    "        sim[0] = x0\n",
    "        for k in range(N):\n",
    "            y = numpy.array(x0, copy=True)\n",
    "            if y[k] != 0:\n",
    "                y[k] = (1 + nonzdelt)*y[k]\n",
    "            else:\n",
    "                y[k] = zdelt\n",
    "            sim[k + 1] = y\n",
    "    else:\n",
    "        sim = np.asfarray(initial_simplex).copy()\n",
    "        if sim.ndim != 2 or sim.shape[0] != sim.shape[1] + 1:\n",
    "            raise ValueError(\"`initial_simplex` should be an array of shape (N+1,N)\")\n",
    "        if len(x0) != sim.shape[1]:\n",
    "            raise ValueError(\"Size of `initial_simplex` is not consistent with `x0`\")\n",
    "        N = sim.shape[1]\n",
    "\n",
    "    if retall:\n",
    "        allvecs = [sim[0]]\n",
    "\n",
    "    # If neither are set, then set both to default\n",
    "    if maxiter is None and maxfun is None:\n",
    "        maxiter = N * 200\n",
    "        maxfun = N * 200\n",
    "    elif maxiter is None:\n",
    "        # Convert remaining Nones, to np.inf, unless the other is np.inf, in\n",
    "        # which case use the default to avoid unbounded iteration\n",
    "        if maxfun == np.inf:\n",
    "            maxiter = N * 200\n",
    "        else:\n",
    "            maxiter = np.inf\n",
    "    elif maxfun is None:\n",
    "        if maxiter == np.inf:\n",
    "            maxfun = N * 200\n",
    "        else:\n",
    "            maxfun = np.inf\n",
    "\n",
    "    one2np1 = list(range(1, N + 1))\n",
    "    fsim = numpy.zeros((N + 1,), float)\n",
    "\n",
    "    for k in range(N + 1):\n",
    "        fsim[k] = func(sim[k])\n",
    "\n",
    "    ind = numpy.argsort(fsim)\n",
    "    fsim = numpy.take(fsim, ind, 0)\n",
    "    # sort so sim[0,:] has the lowest function value\n",
    "    sim = numpy.take(sim, ind, 0)\n",
    "\n",
    "    iterations = 1\n",
    "\n",
    "    print(rho, chi, N, sim)\n",
    "    while (iterations < maxiter):\n",
    "        if (numpy.max(numpy.ravel(numpy.abs(sim[1:] - sim[0]))) <= xatol and\n",
    "                numpy.max(numpy.abs(fsim[0] - fsim[1:])) <= fatol):\n",
    "            break\n",
    "\n",
    "        xbar = numpy.add.reduce(sim[:-1], 0) / N\n",
    "        xr = (1 + rho) * xbar - rho * sim[-1]\n",
    "#         print('xbar, xr, sim: ', xbar, xr, sim[0], sim[-1])\n",
    "        fxr = func(xr)\n",
    "        doshrink = 0\n",
    "\n",
    "        print(fsim)\n",
    "        if fxr < fsim[0]:\n",
    "            xe = (1 + rho * chi) * xbar - rho * chi * sim[-1]\n",
    "            print('expand: ', sim[0], sim[1], xe)\n",
    "            fxe = func(xe)\n",
    "\n",
    "            if fxe < fxr:\n",
    "                sim[-1] = xe\n",
    "                fsim[-1] = fxe\n",
    "            else:\n",
    "                sim[-1] = xr\n",
    "                fsim[-1] = fxr\n",
    "        else:  # fsim[0] <= fxr\n",
    "            if fxr < fsim[-2]:\n",
    "                sim[-1] = xr\n",
    "                fsim[-1] = fxr\n",
    "            else:  # fxr >= fsim[-2]\n",
    "                # Perform contraction\n",
    "                print('contract')\n",
    "                if fxr < fsim[-1]:\n",
    "                    xc = (1 + psi * rho) * xbar - psi * rho * sim[-1]\n",
    "                    fxc = func(xc)\n",
    "\n",
    "                    if fxc <= fxr:\n",
    "                        sim[-1] = xc\n",
    "                        fsim[-1] = fxc\n",
    "                    else:\n",
    "                        doshrink = 1\n",
    "                else:\n",
    "                    print('inside contract')\n",
    "                    # Perform an inside contraction\n",
    "                    xcc = (1 - psi) * xbar + psi * sim[-1]\n",
    "                    fxcc = func(xcc)\n",
    "\n",
    "                    if fxcc < fsim[-1]:\n",
    "                        sim[-1] = xcc\n",
    "                        fsim[-1] = fxcc\n",
    "                    else:\n",
    "                        doshrink = 1\n",
    "\n",
    "                if doshrink:\n",
    "                    print('shrink')\n",
    "                    for j in one2np1:\n",
    "                        sim[j] = sim[0] + sigma * (sim[j] - sim[0])\n",
    "                        fsim[j] = func(sim[j])\n",
    "\n",
    "        ind = numpy.argsort(fsim)\n",
    "        sim = numpy.take(sim, ind, 0)\n",
    "        fsim = numpy.take(fsim, ind, 0)\n",
    "        if callback is not None:\n",
    "            callback(sim[0])\n",
    "        iterations += 1\n",
    "        if retall:\n",
    "            allvecs.append(sim[0])\n",
    "\n",
    "    x = sim[0]\n",
    "    fval = numpy.min(fsim)\n",
    "    warnflag = 0\n",
    "\n",
    "    return x, func(x)"
   ]
  }
 ],
 "metadata": {
  "kernelspec": {
   "display_name": "Python 3",
   "language": "python",
   "name": "python3"
  },
  "language_info": {
   "codemirror_mode": {
    "name": "ipython",
    "version": 3
   },
   "file_extension": ".py",
   "mimetype": "text/x-python",
   "name": "python",
   "nbconvert_exporter": "python",
   "pygments_lexer": "ipython3",
   "version": "3.8.5"
  },
  "toc": {
   "base_numbering": 1,
   "nav_menu": {},
   "number_sections": true,
   "sideBar": true,
   "skip_h1_title": false,
   "title_cell": "Table of Contents",
   "title_sidebar": "Contents",
   "toc_cell": false,
   "toc_position": {
    "height": "calc(100% - 180px)",
    "left": "10px",
    "top": "150px",
    "width": "257.797px"
   },
   "toc_section_display": true,
   "toc_window_display": true
  },
  "toc-autonumbering": true,
  "toc-showcode": false,
  "toc-showmarkdowntxt": true,
  "varInspector": {
   "cols": {
    "lenName": 16,
    "lenType": 16,
    "lenVar": 40
   },
   "kernels_config": {
    "python": {
     "delete_cmd_postfix": "",
     "delete_cmd_prefix": "del ",
     "library": "var_list.py",
     "varRefreshCmd": "print(var_dic_list())"
    },
    "r": {
     "delete_cmd_postfix": ") ",
     "delete_cmd_prefix": "rm(",
     "library": "var_list.r",
     "varRefreshCmd": "cat(var_dic_list()) "
    }
   },
   "types_to_exclude": [
    "module",
    "function",
    "builtin_function_or_method",
    "instance",
    "_Feature"
   ],
   "window_display": false
  }
 },
 "nbformat": 4,
 "nbformat_minor": 4
}
